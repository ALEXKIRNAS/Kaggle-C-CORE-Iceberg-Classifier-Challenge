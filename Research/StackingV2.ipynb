{
 "cells": [
  {
   "cell_type": "code",
   "execution_count": 1,
   "metadata": {
    "collapsed": false
   },
   "outputs": [
    {
     "name": "stderr",
     "output_type": "stream",
     "text": [
      "/Users/alexkirnas/anaconda/lib/python3.6/site-packages/sklearn/cross_validation.py:44: DeprecationWarning: This module was deprecated in version 0.18 in favor of the model_selection module into which all the refactored classes and functions are moved. Also note that the interface of the new CV iterators are different from that of this module. This module will be removed in 0.20.\n",
      "  \"This module will be removed in 0.20.\", DeprecationWarning)\n"
     ]
    }
   ],
   "source": [
    "import os\n",
    "import numpy as np\n",
    "import pandas as pd\n",
    "\n",
    "from sklearn.model_selection import KFold, cross_val_score, train_test_split\n",
    "from sklearn.metrics import roc_auc_score, average_precision_score, accuracy_score \n",
    "from sklearn.neural_network import MLPClassifier\n",
    "\n",
    "import xgboost as xgb"
   ]
  },
  {
   "cell_type": "code",
   "execution_count": 2,
   "metadata": {
    "collapsed": false
   },
   "outputs": [
    {
     "data": {
      "text/html": [
       "<div>\n",
       "<style scoped>\n",
       "    .dataframe tbody tr th:only-of-type {\n",
       "        vertical-align: middle;\n",
       "    }\n",
       "\n",
       "    .dataframe tbody tr th {\n",
       "        vertical-align: top;\n",
       "    }\n",
       "\n",
       "    .dataframe thead th {\n",
       "        text-align: right;\n",
       "    }\n",
       "</style>\n",
       "<table border=\"1\" class=\"dataframe\">\n",
       "  <thead>\n",
       "    <tr style=\"text-align: right;\">\n",
       "      <th></th>\n",
       "      <th>id</th>\n",
       "      <th>is_iceberg_0</th>\n",
       "      <th>is_iceberg_1</th>\n",
       "      <th>is_iceberg_2</th>\n",
       "      <th>is_iceberg_3</th>\n",
       "      <th>is_iceberg_4</th>\n",
       "    </tr>\n",
       "  </thead>\n",
       "  <tbody>\n",
       "    <tr>\n",
       "      <th>0</th>\n",
       "      <td>dfd5f913</td>\n",
       "      <td>0.002231</td>\n",
       "      <td>0.002478</td>\n",
       "      <td>0.006814</td>\n",
       "      <td>0.015393</td>\n",
       "      <td>0.001188</td>\n",
       "    </tr>\n",
       "    <tr>\n",
       "      <th>1</th>\n",
       "      <td>e25388fd</td>\n",
       "      <td>0.000014</td>\n",
       "      <td>0.000275</td>\n",
       "      <td>0.000049</td>\n",
       "      <td>0.000279</td>\n",
       "      <td>0.000003</td>\n",
       "    </tr>\n",
       "    <tr>\n",
       "      <th>2</th>\n",
       "      <td>58b2aaa0</td>\n",
       "      <td>0.929025</td>\n",
       "      <td>0.723265</td>\n",
       "      <td>0.793231</td>\n",
       "      <td>0.680132</td>\n",
       "      <td>0.971094</td>\n",
       "    </tr>\n",
       "    <tr>\n",
       "      <th>3</th>\n",
       "      <td>4cfc3a18</td>\n",
       "      <td>0.006041</td>\n",
       "      <td>0.007178</td>\n",
       "      <td>0.003818</td>\n",
       "      <td>0.033491</td>\n",
       "      <td>0.002326</td>\n",
       "    </tr>\n",
       "    <tr>\n",
       "      <th>4</th>\n",
       "      <td>271f93f4</td>\n",
       "      <td>0.001682</td>\n",
       "      <td>0.000876</td>\n",
       "      <td>0.000373</td>\n",
       "      <td>0.001129</td>\n",
       "      <td>0.000173</td>\n",
       "    </tr>\n",
       "  </tbody>\n",
       "</table>\n",
       "</div>"
      ],
      "text/plain": [
       "         id  is_iceberg_0  is_iceberg_1  is_iceberg_2  is_iceberg_3  \\\n",
       "0  dfd5f913      0.002231      0.002478      0.006814      0.015393   \n",
       "1  e25388fd      0.000014      0.000275      0.000049      0.000279   \n",
       "2  58b2aaa0      0.929025      0.723265      0.793231      0.680132   \n",
       "3  4cfc3a18      0.006041      0.007178      0.003818      0.033491   \n",
       "4  271f93f4      0.001682      0.000876      0.000373      0.001129   \n",
       "\n",
       "   is_iceberg_4  \n",
       "0      0.001188  \n",
       "1      0.000003  \n",
       "2      0.971094  \n",
       "3      0.002326  \n",
       "4      0.000173  "
      ]
     },
     "execution_count": 2,
     "metadata": {},
     "output_type": "execute_result"
    }
   ],
   "source": [
    "sub_path = \"../train_pred/\"\n",
    "all_files = [name for name in os.listdir(sub_path)]\n",
    "\n",
    "# Read and concatenate submissions\n",
    "outs = [pd.read_csv(os.path.join(sub_path, f), index_col=0) for f in all_files]\n",
    "concat_sub = pd.concat(outs, axis=1)\n",
    "cols = list(map(lambda x: \"is_iceberg_\" + str(x), range(len(concat_sub.columns))))\n",
    "concat_sub.columns = cols\n",
    "concat_sub.reset_index(inplace=True)\n",
    "concat_sub.head()"
   ]
  },
  {
   "cell_type": "code",
   "execution_count": 3,
   "metadata": {
    "collapsed": false
   },
   "outputs": [
    {
     "data": {
      "text/plain": [
       "<matplotlib.axes._subplots.AxesSubplot at 0x112f3fdd8>"
      ]
     },
     "execution_count": 3,
     "metadata": {},
     "output_type": "execute_result"
    },
    {
     "data": {
      "image/png": "[encoded data removed]",
      "text/plain": [
       "<matplotlib.figure.Figure at 0x112bb3b00>"
      ]
     },
     "metadata": {},
     "output_type": "display_data"
    }
   ],
   "source": [
    "import seaborn as sns\n",
    "from matplotlib import pyplot as plt\n",
    "%matplotlib inline\n",
    "\n",
    "f, ax = plt.subplots(figsize=(10, 8))\n",
    "corr = concat_sub.corr()\n",
    "sns.heatmap(corr, mask=np.zeros_like(corr, dtype=np.bool), cmap=sns.diverging_palette(220, 10, as_cmap=True),\n",
    "            square=True, ax=ax)"
   ]
  },
  {
   "cell_type": "code",
   "execution_count": null,
   "metadata": {
    "collapsed": false
   },
   "outputs": [],
   "source": [
    "corr"
   ]
  },
  {
   "cell_type": "code",
   "execution_count": 4,
   "metadata": {
    "collapsed": false
   },
   "outputs": [],
   "source": [
    "train = pd.read_json(\"../input/train.json\")\n",
    "test = pd.read_json(\"../input/test.json\")"
   ]
  },
  {
   "cell_type": "code",
   "execution_count": 5,
   "metadata": {
    "collapsed": false
   },
   "outputs": [
    {
     "data": {
      "text/html": [
       "<div>\n",
       "<style scoped>\n",
       "    .dataframe tbody tr th:only-of-type {\n",
       "        vertical-align: middle;\n",
       "    }\n",
       "\n",
       "    .dataframe tbody tr th {\n",
       "        vertical-align: top;\n",
       "    }\n",
       "\n",
       "    .dataframe thead th {\n",
       "        text-align: right;\n",
       "    }\n",
       "</style>\n",
       "<table border=\"1\" class=\"dataframe\">\n",
       "  <thead>\n",
       "    <tr style=\"text-align: right;\">\n",
       "      <th></th>\n",
       "      <th>band_1</th>\n",
       "      <th>band_2</th>\n",
       "      <th>id</th>\n",
       "      <th>inc_angle</th>\n",
       "      <th>is_iceberg</th>\n",
       "    </tr>\n",
       "  </thead>\n",
       "  <tbody>\n",
       "    <tr>\n",
       "      <th>0</th>\n",
       "      <td>[-27.878360999999998, -27.15416, -28.668615, -...</td>\n",
       "      <td>[-27.154118, -29.537888, -31.0306, -32.190483,...</td>\n",
       "      <td>dfd5f913</td>\n",
       "      <td>43.9239</td>\n",
       "      <td>0</td>\n",
       "    </tr>\n",
       "    <tr>\n",
       "      <th>1</th>\n",
       "      <td>[-12.242375, -14.920304999999999, -14.920363, ...</td>\n",
       "      <td>[-31.506321, -27.984554, -26.645678, -23.76760...</td>\n",
       "      <td>e25388fd</td>\n",
       "      <td>38.1562</td>\n",
       "      <td>0</td>\n",
       "    </tr>\n",
       "    <tr>\n",
       "      <th>2</th>\n",
       "      <td>[-24.603676, -24.603714, -24.871029, -23.15277...</td>\n",
       "      <td>[-24.870956, -24.092632, -20.653963, -19.41104...</td>\n",
       "      <td>58b2aaa0</td>\n",
       "      <td>45.2859</td>\n",
       "      <td>1</td>\n",
       "    </tr>\n",
       "    <tr>\n",
       "      <th>3</th>\n",
       "      <td>[-22.454607, -23.082819, -23.998013, -23.99805...</td>\n",
       "      <td>[-27.889421, -27.519794, -27.165262, -29.10350...</td>\n",
       "      <td>4cfc3a18</td>\n",
       "      <td>43.8306</td>\n",
       "      <td>0</td>\n",
       "    </tr>\n",
       "    <tr>\n",
       "      <th>4</th>\n",
       "      <td>[-26.006956, -23.164886, -23.164886, -26.89116...</td>\n",
       "      <td>[-27.206915, -30.259186, -30.259186, -23.16495...</td>\n",
       "      <td>271f93f4</td>\n",
       "      <td>35.6256</td>\n",
       "      <td>0</td>\n",
       "    </tr>\n",
       "  </tbody>\n",
       "</table>\n",
       "</div>"
      ],
      "text/plain": [
       "                                              band_1  \\\n",
       "0  [-27.878360999999998, -27.15416, -28.668615, -...   \n",
       "1  [-12.242375, -14.920304999999999, -14.920363, ...   \n",
       "2  [-24.603676, -24.603714, -24.871029, -23.15277...   \n",
       "3  [-22.454607, -23.082819, -23.998013, -23.99805...   \n",
       "4  [-26.006956, -23.164886, -23.164886, -26.89116...   \n",
       "\n",
       "                                              band_2        id inc_angle  \\\n",
       "0  [-27.154118, -29.537888, -31.0306, -32.190483,...  dfd5f913   43.9239   \n",
       "1  [-31.506321, -27.984554, -26.645678, -23.76760...  e25388fd   38.1562   \n",
       "2  [-24.870956, -24.092632, -20.653963, -19.41104...  58b2aaa0   45.2859   \n",
       "3  [-27.889421, -27.519794, -27.165262, -29.10350...  4cfc3a18   43.8306   \n",
       "4  [-27.206915, -30.259186, -30.259186, -23.16495...  271f93f4   35.6256   \n",
       "\n",
       "   is_iceberg  \n",
       "0           0  \n",
       "1           0  \n",
       "2           1  \n",
       "3           0  \n",
       "4           0  "
      ]
     },
     "execution_count": 5,
     "metadata": {},
     "output_type": "execute_result"
    }
   ],
   "source": [
    "train.head()"
   ]
  },
  {
   "cell_type": "code",
   "execution_count": 6,
   "metadata": {
    "collapsed": false
   },
   "outputs": [],
   "source": [
    "train.drop(['band_1', 'band_2'], axis=1, inplace=True)"
   ]
  },
  {
   "cell_type": "code",
   "execution_count": 7,
   "metadata": {
    "collapsed": true
   },
   "outputs": [],
   "source": [
    "train = pd.merge(train, concat_sub, on='id')"
   ]
  },
  {
   "cell_type": "code",
   "execution_count": 8,
   "metadata": {
    "collapsed": false
   },
   "outputs": [
    {
     "data": {
      "text/html": [
       "<div>\n",
       "<style scoped>\n",
       "    .dataframe tbody tr th:only-of-type {\n",
       "        vertical-align: middle;\n",
       "    }\n",
       "\n",
       "    .dataframe tbody tr th {\n",
       "        vertical-align: top;\n",
       "    }\n",
       "\n",
       "    .dataframe thead th {\n",
       "        text-align: right;\n",
       "    }\n",
       "</style>\n",
       "<table border=\"1\" class=\"dataframe\">\n",
       "  <thead>\n",
       "    <tr style=\"text-align: right;\">\n",
       "      <th></th>\n",
       "      <th>id</th>\n",
       "      <th>inc_angle</th>\n",
       "      <th>is_iceberg</th>\n",
       "      <th>is_iceberg_0</th>\n",
       "      <th>is_iceberg_1</th>\n",
       "      <th>is_iceberg_2</th>\n",
       "      <th>is_iceberg_3</th>\n",
       "      <th>is_iceberg_4</th>\n",
       "    </tr>\n",
       "  </thead>\n",
       "  <tbody>\n",
       "    <tr>\n",
       "      <th>0</th>\n",
       "      <td>dfd5f913</td>\n",
       "      <td>43.9239</td>\n",
       "      <td>0</td>\n",
       "      <td>0.002231</td>\n",
       "      <td>0.002478</td>\n",
       "      <td>0.006814</td>\n",
       "      <td>0.015393</td>\n",
       "      <td>0.001188</td>\n",
       "    </tr>\n",
       "    <tr>\n",
       "      <th>1</th>\n",
       "      <td>e25388fd</td>\n",
       "      <td>38.1562</td>\n",
       "      <td>0</td>\n",
       "      <td>0.000014</td>\n",
       "      <td>0.000275</td>\n",
       "      <td>0.000049</td>\n",
       "      <td>0.000279</td>\n",
       "      <td>0.000003</td>\n",
       "    </tr>\n",
       "    <tr>\n",
       "      <th>2</th>\n",
       "      <td>58b2aaa0</td>\n",
       "      <td>45.2859</td>\n",
       "      <td>1</td>\n",
       "      <td>0.929025</td>\n",
       "      <td>0.723265</td>\n",
       "      <td>0.793231</td>\n",
       "      <td>0.680132</td>\n",
       "      <td>0.971094</td>\n",
       "    </tr>\n",
       "    <tr>\n",
       "      <th>3</th>\n",
       "      <td>4cfc3a18</td>\n",
       "      <td>43.8306</td>\n",
       "      <td>0</td>\n",
       "      <td>0.006041</td>\n",
       "      <td>0.007178</td>\n",
       "      <td>0.003818</td>\n",
       "      <td>0.033491</td>\n",
       "      <td>0.002326</td>\n",
       "    </tr>\n",
       "    <tr>\n",
       "      <th>4</th>\n",
       "      <td>271f93f4</td>\n",
       "      <td>35.6256</td>\n",
       "      <td>0</td>\n",
       "      <td>0.001682</td>\n",
       "      <td>0.000876</td>\n",
       "      <td>0.000373</td>\n",
       "      <td>0.001129</td>\n",
       "      <td>0.000173</td>\n",
       "    </tr>\n",
       "  </tbody>\n",
       "</table>\n",
       "</div>"
      ],
      "text/plain": [
       "         id inc_angle  is_iceberg  is_iceberg_0  is_iceberg_1  is_iceberg_2  \\\n",
       "0  dfd5f913   43.9239           0      0.002231      0.002478      0.006814   \n",
       "1  e25388fd   38.1562           0      0.000014      0.000275      0.000049   \n",
       "2  58b2aaa0   45.2859           1      0.929025      0.723265      0.793231   \n",
       "3  4cfc3a18   43.8306           0      0.006041      0.007178      0.003818   \n",
       "4  271f93f4   35.6256           0      0.001682      0.000876      0.000373   \n",
       "\n",
       "   is_iceberg_3  is_iceberg_4  \n",
       "0      0.015393      0.001188  \n",
       "1      0.000279      0.000003  \n",
       "2      0.680132      0.971094  \n",
       "3      0.033491      0.002326  \n",
       "4      0.001129      0.000173  "
      ]
     },
     "execution_count": 8,
     "metadata": {},
     "output_type": "execute_result"
    }
   ],
   "source": [
    "train.head()"
   ]
  },
  {
   "cell_type": "code",
   "execution_count": 9,
   "metadata": {
    "collapsed": true
   },
   "outputs": [],
   "source": [
    "y = train['is_iceberg'].as_matrix()"
   ]
  },
  {
   "cell_type": "code",
   "execution_count": 10,
   "metadata": {
    "collapsed": false
   },
   "outputs": [],
   "source": [
    "train.drop(['id', 'is_iceberg', 'inc_angle'], axis=1, inplace=True)"
   ]
  },
  {
   "cell_type": "code",
   "execution_count": 11,
   "metadata": {
    "collapsed": true
   },
   "outputs": [],
   "source": [
    "x = train.as_matrix()"
   ]
  },
  {
   "cell_type": "code",
   "execution_count": 12,
   "metadata": {
    "collapsed": false
   },
   "outputs": [
    {
     "data": {
      "text/plain": [
       "array([[  2.23111594e-03,   2.47819698e-03,   6.81425072e-03,\n",
       "          1.53928008e-02,   1.18804001e-03],\n",
       "       [  1.38275836e-05,   2.75269645e-04,   4.86871832e-05,\n",
       "          2.79270578e-04,   2.64864093e-06],\n",
       "       [  9.29025114e-01,   7.23264873e-01,   7.93231070e-01,\n",
       "          6.80131912e-01,   9.71093535e-01],\n",
       "       ..., \n",
       "       [  5.30921035e-02,   4.99295853e-02,   3.81115675e-02,\n",
       "          3.75144444e-02,   9.33770090e-02],\n",
       "       [  2.54477412e-02,   1.07758008e-02,   3.66303325e-03,\n",
       "          7.00016469e-02,   5.29507408e-03],\n",
       "       [  8.06853026e-02,   2.95005888e-02,   6.34879172e-02,\n",
       "          1.99470654e-01,   1.05904508e-02]])"
      ]
     },
     "execution_count": 12,
     "metadata": {},
     "output_type": "execute_result"
    }
   ],
   "source": [
    "x"
   ]
  },
  {
   "cell_type": "code",
   "execution_count": 13,
   "metadata": {
    "collapsed": true
   },
   "outputs": [],
   "source": [
    "def logloss_softmax(y_true, y_pred, eps=1e-15):\n",
    "    proba = y_pred[np.arange(len(y_pred)), y_true]\n",
    "    proba = np.clip(proba, eps, 1 - eps)\n",
    "    return -np.mean(np.log(proba))"
   ]
  },
  {
   "cell_type": "code",
   "execution_count": 14,
   "metadata": {
    "collapsed": false
   },
   "outputs": [],
   "source": [
    "kfold_data = []\n",
    "kf = KFold(n_splits=5, shuffle=True, random_state=0x42)\n",
    "\n",
    "for train_indices, val_indices in kf.split(y):\n",
    "    X_train_cv = x[train_indices]\n",
    "    y_train_cv = y[train_indices]\n",
    "\n",
    "    X_val = x[val_indices]\n",
    "    y_val = y[val_indices]\n",
    "\n",
    "    kfold_data.append((X_train_cv, y_train_cv, X_val, y_val))"
   ]
  },
  {
   "cell_type": "code",
   "execution_count": 101,
   "metadata": {
    "collapsed": false
   },
   "outputs": [
    {
     "name": "stdout",
     "output_type": "stream",
     "text": [
      "Train accuracy: 0.98051\n",
      "Validation accuracy: 0.96262\n",
      "------------------------------\n",
      "\n",
      "\n",
      "Train accuracy: 0.98285\n",
      "Validation accuracy: 0.94704\n",
      "------------------------------\n",
      "\n",
      "\n",
      "Train accuracy: 0.98051\n",
      "Validation accuracy: 0.97196\n",
      "------------------------------\n",
      "\n",
      "\n",
      "Train accuracy: 0.97973\n",
      "Validation accuracy: 0.97508\n",
      "------------------------------\n",
      "\n",
      "\n",
      "Train accuracy: 0.98053\n",
      "Validation accuracy: 0.94688\n",
      "------------------------------\n",
      "\n",
      "\n",
      "Avg val_acc: 0.960714563863\n",
      "Avg val_loss: 0.105897\n",
      "Avg train_acc: 0.980829223758\n",
      "Avg train_loss: 0.0560774\n"
     ]
    }
   ],
   "source": [
    "tr_acc = []\n",
    "tr_loss = []\n",
    "\n",
    "acc = []\n",
    "loss = []\n",
    "\n",
    "for x_train, y_train, x_val, y_val in kfold_data:\n",
    "    gbm = xgb.XGBClassifier(n_estimators=52,\n",
    "                            max_depth=3, \n",
    "                            subsample=0.9,\n",
    "                            colsample_bytree=0.9,\n",
    "                            learning_rate=0.1,\n",
    "                            reg_lambda=0.)\n",
    "    gbm.fit(x_train, y_train)\n",
    "\n",
    "    y_pred_val = gbm.predict(x_val)\n",
    "    y_pred_train = gbm.predict(x_train)\n",
    "\n",
    "    train_acc = accuracy_score(y_train, y_pred_train, normalize=True)\n",
    "    val_acc = accuracy_score(y_val, y_pred_val, normalize=True)\n",
    "\n",
    "    train_loss = logloss_softmax(y_train, gbm.predict_proba(x_train))\n",
    "    val_loss = logloss_softmax(y_val, gbm.predict_proba(x_val))\n",
    "\n",
    "    print(\"Train accuracy: %.5f\" % train_acc)\n",
    "    print(\"Validation accuracy: %.5f\" % val_acc)\n",
    "    print('------------------------------\\n\\n')\n",
    "    tr_acc.append(train_acc)\n",
    "    acc.append(val_acc)\n",
    "\n",
    "    tr_loss.append(train_loss)\n",
    "    loss.append(val_loss)\n",
    "    \n",
    "print('Avg val_acc:', np.mean(acc))\n",
    "print('Avg val_loss:', np.mean(loss))\n",
    "\n",
    "print('Avg train_acc:', np.mean(tr_acc))\n",
    "print('Avg train_loss:', np.mean(tr_loss))"
   ]
  },
  {
   "cell_type": "code",
   "execution_count": 102,
   "metadata": {
    "collapsed": false
   },
   "outputs": [],
   "source": [
    "scores_base = np.array([])\n",
    "for i in range(10):\n",
    "    fold = KFold(n_splits=5, shuffle=True, random_state=i)\n",
    "    scores_base_on_this_split = cross_val_score(\n",
    "                                             estimator=xgb.XGBClassifier(\n",
    "                                                 n_estimators=52,\n",
    "                                                 max_depth=3, \n",
    "                                                 subsample=0.9,\n",
    "                                                 colsample_bytree=0.8,\n",
    "                                                 learning_rate=0.1,\n",
    "                                                 reg_lambda=0.),\n",
    "                                             X=x, y=y,\n",
    "                                             cv=fold, scoring='neg_log_loss')\n",
    "    scores_base = np.append(scores_base, scores_base_on_this_split)"
   ]
  },
  {
   "cell_type": "code",
   "execution_count": 99,
   "metadata": {
    "collapsed": false
   },
   "outputs": [
    {
     "name": "stderr",
     "output_type": "stream",
     "text": [
      "100%|██████████| 6/6 [00:06<00:00,  1.16s/it]\n"
     ]
    },
    {
     "data": {
      "text/plain": [
       "<matplotlib.text.Text at 0x1751ce4a8>"
      ]
     },
     "execution_count": 99,
     "metadata": {},
     "output_type": "execute_result"
    },
    {
     "data": {
      "image/png": "[encoded data removed]",
      "text/plain": [
       "<matplotlib.figure.Figure at 0x182bf7588>"
      ]
     },
     "metadata": {},
     "output_type": "display_data"
    }
   ],
   "source": [
    "from scipy.stats import ttest_rel\n",
    "from tqdm import tqdm\n",
    "\n",
    "t_stats = []\n",
    "n_trees = []\n",
    "for j in tqdm(np.arange(0.5, 1.01, 0.1)):\n",
    "    current_score = np.array([])\n",
    "    for i in range(10):\n",
    "        fold = KFold(n_splits=5, shuffle=True, random_state=i)\n",
    "        scores_on_this_split = cross_val_score(\n",
    "                                      estimator=xgb.XGBClassifier(\n",
    "                                          n_estimators=52,\n",
    "                                          max_depth=3,\n",
    "                                          subsample=0.9,\n",
    "                                          colsample_bytree=0.9,\n",
    "                                          learning_rate=0.1,\n",
    "                                          reg_lambda=0.),\n",
    "                                      X=x, y=y,\n",
    "                                      cv=fold, scoring='neg_log_loss')\n",
    "        current_score = np.append(current_score,\n",
    "                                  scores_on_this_split)\n",
    "    t_stat, p_value = ttest_rel(current_score, scores_base)\n",
    "    t_stats.append(t_stat)\n",
    "    n_trees.append(j)\n",
    "plt.plot(n_trees, t_stats)\n",
    "plt.grid()\n",
    "plt.xlabel('param')\n",
    "plt.ylabel('t-statistic')"
   ]
  },
  {
   "cell_type": "code",
   "execution_count": null,
   "metadata": {
    "collapsed": true
   },
   "outputs": [],
   "source": [
    "from sklearn.neural_network import MLPClassifier"
   ]
  },
  {
   "cell_type": "code",
   "execution_count": 54,
   "metadata": {
    "collapsed": false
   },
   "outputs": [
    {
     "name": "stdout",
     "output_type": "stream",
     "text": [
      "Train accuracy: 0.96259\n",
      "Validation accuracy: 0.96262\n",
      "------------------------------\n",
      "\n",
      "\n",
      "Train accuracy: 0.98831\n",
      "Validation accuracy: 0.93769\n",
      "------------------------------\n",
      "\n",
      "\n",
      "Train accuracy: 0.97350\n",
      "Validation accuracy: 0.96885\n",
      "------------------------------\n",
      "\n",
      "\n",
      "Train accuracy: 0.96103\n",
      "Validation accuracy: 0.97819\n",
      "------------------------------\n",
      "\n",
      "\n",
      "Train accuracy: 0.96573\n",
      "Validation accuracy: 0.95625\n",
      "------------------------------\n",
      "\n",
      "\n",
      "Avg val_acc: 0.960720404984\n",
      "Avg val_loss: 0.244896880693\n",
      "Avg train_acc: 0.970231374577\n",
      "Avg train_loss: 0.0805545013688\n"
     ]
    }
   ],
   "source": [
    "tr_acc = []\n",
    "tr_loss = []\n",
    "\n",
    "acc = []\n",
    "loss = []\n",
    "\n",
    "for x_train, y_train, x_val, y_val in kfold_data:\n",
    "    \n",
    "    gbm = MLPClassifier(\n",
    "            hidden_layer_sizes=(15, 15, 5), activation=\"tanh\",\n",
    "            solver='lbfgs', alpha=0.,\n",
    "            batch_size=256,\n",
    "            learning_rate_init=0.001, max_iter=200,\n",
    "            shuffle=False, tol=1e-3,verbose=False,\n",
    "           early_stopping=True)\n",
    "\n",
    "    gbm.fit(x_train, y_train)\n",
    "\n",
    "    y_pred_val = gbm.predict(x_val)\n",
    "    y_pred_train = gbm.predict(x_train)\n",
    "\n",
    "    train_acc = accuracy_score(y_train, y_pred_train, normalize=True)\n",
    "    val_acc = accuracy_score(y_val, y_pred_val, normalize=True)\n",
    "\n",
    "    train_loss = logloss_softmax(y_train, gbm.predict_proba(x_train))\n",
    "    val_loss = logloss_softmax(y_val, gbm.predict_proba(x_val))\n",
    "\n",
    "    print(\"Train accuracy: %.5f\" % train_acc)\n",
    "    print(\"Validation accuracy: %.5f\" % val_acc)\n",
    "    print('------------------------------\\n\\n')\n",
    "    tr_acc.append(train_acc)\n",
    "    acc.append(val_acc)\n",
    "\n",
    "    tr_loss.append(train_loss)\n",
    "    loss.append(val_loss)\n",
    "    \n",
    "print('Avg val_acc:', np.mean(acc))\n",
    "print('Avg val_loss:', np.mean(loss))\n",
    "\n",
    "print('Avg train_acc:', np.mean(tr_acc))\n",
    "print('Avg train_loss:', np.mean(tr_loss))"
   ]
  },
  {
   "cell_type": "code",
   "execution_count": null,
   "metadata": {
    "collapsed": false
   },
   "outputs": [],
   "source": [
    "scores_base = np.array([])\n",
    "for i in range(10):\n",
    "    fold = KFold(n_splits=5, shuffle=True, random_state=i)\n",
    "    scores_base_on_this_split = cross_val_score(\n",
    "                                             estimator=MLPClassifier(\n",
    "                                                hidden_layer_sizes=(650, 45), activation=\"tanh\",\n",
    "                                                solver='lbfgs', alpha=0.01,\n",
    "                                                batch_size=256,\n",
    "                                                learning_rate_init=0.001, max_iter=200,\n",
    "                                                shuffle=False, tol=1e-3,verbose=False,\n",
    "                                                early_stopping=True),\n",
    "                                             X=x, y=y,\n",
    "                                             cv=fold, scoring='neg_log_loss')\n",
    "    scores_base = np.append(scores_base, scores_base_on_this_split)"
   ]
  },
  {
   "cell_type": "code",
   "execution_count": null,
   "metadata": {
    "collapsed": false
   },
   "outputs": [],
   "source": [
    "from scipy.stats import ttest_rel\n",
    "from tqdm import tqdm\n",
    "\n",
    "t_stats = []\n",
    "n_trees = []\n",
    "for j in tqdm(np.arange(-5, 0, 1)):\n",
    "    current_score = np.array([])\n",
    "    for i in range(10):\n",
    "        fold = KFold(n_splits=5, shuffle=True, random_state=i)\n",
    "        scores_on_this_split = cross_val_score(\n",
    "                                      estimator=MLPClassifier(\n",
    "                                                 hidden_layer_sizes=(650, 45, 10), activation=\"tanh\",\n",
    "                                                 solver='lbfgs', alpha=0.01,\n",
    "                                                 batch_size=256,\n",
    "                                                 learning_rate_init=0.001, max_iter=200,\n",
    "                                                 shuffle=False, tol=1e-3,verbose=False,\n",
    "                                                 early_stopping=True),\n",
    "                                      X=x, y=y,\n",
    "                                      cv=fold, scoring='neg_log_loss')\n",
    "        current_score = np.append(current_score,\n",
    "                                  scores_on_this_split)\n",
    "    t_stat, p_value = ttest_rel(current_score, scores_base)\n",
    "    t_stats.append(t_stat)\n",
    "    n_trees.append(j)\n",
    "plt.plot(n_trees, t_stats)\n",
    "plt.grid()\n",
    "plt.xlabel('param')\n",
    "plt.ylabel('t-statistic')"
   ]
  },
  {
   "cell_type": "code",
   "execution_count": 36,
   "metadata": {
    "collapsed": true
   },
   "outputs": [],
   "source": [
    "def logloss(y_true, y_pred):\n",
    "    return -np.mean(y_true * np.log(y_pred) + (1 - y_true) * np.log(1 - y_pred))"
   ]
  },
  {
   "cell_type": "code",
   "execution_count": 37,
   "metadata": {
    "collapsed": false
   },
   "outputs": [
    {
     "name": "stderr",
     "output_type": "stream",
     "text": [
      "100%|██████████| 100/100 [00:22<00:00,  4.38it/s]\n"
     ]
    },
    {
     "data": {
      "text/plain": [
       "<matplotlib.text.Text at 0x1756f1748>"
      ]
     },
     "execution_count": 37,
     "metadata": {},
     "output_type": "execute_result"
    },
    {
     "data": {
      "image/png": "[encoded data removed]",
      "text/plain": [
       "<matplotlib.figure.Figure at 0x174c94860>"
      ]
     },
     "metadata": {},
     "output_type": "display_data"
    }
   ],
   "source": [
    "loss = []\n",
    "value = []\n",
    "\n",
    "for seed in tqdm(range(100)):\n",
    "    X_train_cv, X_valid, y_train_cv, y_valid = train_test_split(\n",
    "                 x,\n",
    "                 y,\n",
    "                 random_state=seed,\n",
    "                 train_size=0.8)\n",
    "\n",
    "    gbm = xgb.XGBClassifier(n_estimators=52,\n",
    "                        max_depth=3, \n",
    "                        subsample=0.8,\n",
    "                        colsample_bytree=0.75,\n",
    "                        learning_rate=0.1,\n",
    "                        reg_lambda=0.1)\n",
    "    gbm.fit(X_train_cv, y_train_cv)\n",
    "\n",
    "    mlp = MLPClassifier(\n",
    "            hidden_layer_sizes=(650, 45), activation=\"tanh\",\n",
    "            solver='lbfgs', alpha=0.,\n",
    "            batch_size=128,\n",
    "            learning_rate_init=0.001, max_iter=200,\n",
    "            shuffle=False, tol=1e-3,verbose=False,\n",
    "           early_stopping=True)\n",
    "\n",
    "    mlp.fit(X_train_cv, y_train_cv)\n",
    "\n",
    "    y_gbm = gbm.predict_proba(X_valid)[:, 1]\n",
    "    y_mlp = mlp.predict_proba(X_valid)[:, 1]\n",
    "\n",
    "    curr_loss = []\n",
    "    curr_value = []\n",
    "\n",
    "    for alpha in np.arange(0.0, 1.01, 0.01):\n",
    "        curr_value.append(alpha)\n",
    "        curr_loss.append(logloss(y_valid, alpha * y_gbm + (1 - alpha) * y_mlp))\n",
    "    \n",
    "    loss.append(curr_loss)\n",
    "    value.append(curr_value)\n",
    "    \n",
    "plt.plot(value[-1], np.mean(loss, axis=0))\n",
    "plt.grid()\n",
    "plt.xlabel('alpha')\n",
    "plt.ylabel('logloss')"
   ]
  },
  {
   "cell_type": "code",
   "execution_count": 38,
   "metadata": {
    "collapsed": false
   },
   "outputs": [
    {
     "data": {
      "text/plain": [
       "(0.10967618654901956, 0.52000000000000002)"
      ]
     },
     "execution_count": 38,
     "metadata": {},
     "output_type": "execute_result"
    }
   ],
   "source": [
    "idx = np.argmin(np.mean(loss, axis=0))\n",
    "np.min(np.mean(loss, axis=0)), value[-1][idx]"
   ]
  },
  {
   "cell_type": "code",
   "execution_count": 34,
   "metadata": {
    "collapsed": false
   },
   "outputs": [
    {
     "name": "stderr",
     "output_type": "stream",
     "text": [
      "100%|██████████| 50/50 [00:12<00:00,  4.47it/s]\n"
     ]
    },
    {
     "data": {
      "text/plain": [
       "<matplotlib.text.Text at 0x17556f390>"
      ]
     },
     "execution_count": 34,
     "metadata": {},
     "output_type": "execute_result"
    },
    {
     "data": {
      "image/png": "[encoded data removed]",
      "text/plain": [
       "<matplotlib.figure.Figure at 0x174cf8898>"
      ]
     },
     "metadata": {},
     "output_type": "display_data"
    }
   ],
   "source": [
    "acc = []\n",
    "value = []\n",
    "\n",
    "for seed in tqdm(range(50)):\n",
    "    X_train_cv, X_valid, y_train_cv, y_valid = train_test_split(\n",
    "                 x,\n",
    "                 y,\n",
    "                 random_state=seed,\n",
    "                 train_size=0.8)\n",
    "\n",
    "    gbm = xgb.XGBClassifier(n_estimators=52,\n",
    "                        max_depth=3, \n",
    "                        subsample=0.8,\n",
    "                        colsample_bytree=0.75,\n",
    "                        learning_rate=0.1,\n",
    "                        reg_lambda=0.1)\n",
    "    gbm.fit(X_train_cv, y_train_cv)\n",
    "\n",
    "\n",
    "    mlp = MLPClassifier(\n",
    "            hidden_layer_sizes=(650, 45), activation=\"tanh\",\n",
    "            solver='lbfgs', alpha=0.,\n",
    "            batch_size=128,\n",
    "            learning_rate_init=0.001, max_iter=200,\n",
    "            shuffle=False, tol=1e-3,verbose=False,\n",
    "           early_stopping=True)\n",
    "\n",
    "    mlp.fit(X_train_cv, y_train_cv)\n",
    "\n",
    "    y_gbm = gbm.predict_proba(X_valid)[:, 1]\n",
    "    y_mlp = mlp.predict_proba(X_valid)[:, 1]\n",
    "\n",
    "    curr_acc = []\n",
    "    curr_value = []\n",
    "\n",
    "    for alpha in np.arange(0.0, 1.01, 0.01):\n",
    "        curr_value.append(alpha)\n",
    "        curr_acc.append(accuracy_score(y_valid, (alpha * y_gbm + (1 - alpha) * y_mlp) > 0.5, normalize=True))\n",
    "    \n",
    "    acc.append(curr_acc)\n",
    "    value.append(curr_value)\n",
    "    \n",
    "plt.plot(value[-1], np.mean(acc, axis=0))\n",
    "plt.grid()\n",
    "plt.xlabel('alpha')\n",
    "plt.ylabel('acc')"
   ]
  },
  {
   "cell_type": "code",
   "execution_count": 39,
   "metadata": {
    "collapsed": false
   },
   "outputs": [
    {
     "data": {
      "text/plain": [
       "(0.96299065420560803, 0.41999999999999998)"
      ]
     },
     "execution_count": 39,
     "metadata": {},
     "output_type": "execute_result"
    }
   ],
   "source": [
    "idx = np.argmax(np.mean(acc, axis=0))\n",
    "np.max(np.mean(acc, axis=0)), value[-1][idx]"
   ]
  },
  {
   "cell_type": "code",
   "execution_count": 40,
   "metadata": {
    "collapsed": false
   },
   "outputs": [
    {
     "data": {
      "text/plain": [
       "MLPClassifier(activation='tanh', alpha=0.0, batch_size=256, beta_1=0.9,\n",
       "       beta_2=0.999, early_stopping=True, epsilon=1e-08,\n",
       "       hidden_layer_sizes=(650, 45), learning_rate='constant',\n",
       "       learning_rate_init=0.001, max_iter=200, momentum=0.9,\n",
       "       nesterovs_momentum=True, power_t=0.5, random_state=None,\n",
       "       shuffle=False, solver='lbfgs', tol=0.001, validation_fraction=0.1,\n",
       "       verbose=False, warm_start=False)"
      ]
     },
     "execution_count": 40,
     "metadata": {},
     "output_type": "execute_result"
    }
   ],
   "source": [
    "gbm = xgb.XGBClassifier(n_estimators=52,\n",
    "                        max_depth=3, \n",
    "                        subsample=1,\n",
    "                        colsample_bytree=1,\n",
    "                        learning_rate=0.1,\n",
    "                        reg_lambda=0.)\n",
    "gbm.fit(x, y)\n",
    "\n",
    "\n",
    "mlp = MLPClassifier(\n",
    "        hidden_layer_sizes=(650, 45), activation=\"tanh\",\n",
    "        solver='lbfgs', alpha=0.,\n",
    "        batch_size=256,\n",
    "        learning_rate_init=0.001, max_iter=200,\n",
    "        shuffle=False, tol=1e-3,verbose=False,\n",
    "        early_stopping=True)\n",
    "\n",
    "mlp.fit(x, y)"
   ]
  },
  {
   "cell_type": "code",
   "execution_count": 41,
   "metadata": {
    "collapsed": false
   },
   "outputs": [
    {
     "data": {
      "text/html": [
       "<div>\n",
       "<style scoped>\n",
       "    .dataframe tbody tr th:only-of-type {\n",
       "        vertical-align: middle;\n",
       "    }\n",
       "\n",
       "    .dataframe tbody tr th {\n",
       "        vertical-align: top;\n",
       "    }\n",
       "\n",
       "    .dataframe thead th {\n",
       "        text-align: right;\n",
       "    }\n",
       "</style>\n",
       "<table border=\"1\" class=\"dataframe\">\n",
       "  <thead>\n",
       "    <tr style=\"text-align: right;\">\n",
       "      <th></th>\n",
       "      <th>band_1</th>\n",
       "      <th>band_2</th>\n",
       "      <th>id</th>\n",
       "      <th>inc_angle</th>\n",
       "    </tr>\n",
       "  </thead>\n",
       "  <tbody>\n",
       "    <tr>\n",
       "      <th>0</th>\n",
       "      <td>[-15.863251, -15.201077, -17.887735, -19.17248...</td>\n",
       "      <td>[-21.629612, -21.142353, -23.908337, -28.34524...</td>\n",
       "      <td>5941774d</td>\n",
       "      <td>34.966400</td>\n",
       "    </tr>\n",
       "    <tr>\n",
       "      <th>1</th>\n",
       "      <td>[-26.058969497680664, -26.058969497680664, -26...</td>\n",
       "      <td>[-25.754207611083984, -25.754207611083984, -25...</td>\n",
       "      <td>4023181e</td>\n",
       "      <td>32.615072</td>\n",
       "    </tr>\n",
       "    <tr>\n",
       "      <th>2</th>\n",
       "      <td>[-14.14109992980957, -15.064241409301758, -17....</td>\n",
       "      <td>[-14.74563980102539, -14.590410232543945, -14....</td>\n",
       "      <td>b20200e4</td>\n",
       "      <td>37.505433</td>\n",
       "    </tr>\n",
       "    <tr>\n",
       "      <th>3</th>\n",
       "      <td>[-12.167478, -13.706167, -16.54837, -13.572674...</td>\n",
       "      <td>[-24.32222, -26.375538, -24.096739, -23.8769, ...</td>\n",
       "      <td>e7f018bb</td>\n",
       "      <td>34.473900</td>\n",
       "    </tr>\n",
       "    <tr>\n",
       "      <th>4</th>\n",
       "      <td>[-23.37459373474121, -26.02718162536621, -28.1...</td>\n",
       "      <td>[-25.72234344482422, -27.011577606201172, -23....</td>\n",
       "      <td>4371c8c3</td>\n",
       "      <td>43.918874</td>\n",
       "    </tr>\n",
       "  </tbody>\n",
       "</table>\n",
       "</div>"
      ],
      "text/plain": [
       "                                              band_1  \\\n",
       "0  [-15.863251, -15.201077, -17.887735, -19.17248...   \n",
       "1  [-26.058969497680664, -26.058969497680664, -26...   \n",
       "2  [-14.14109992980957, -15.064241409301758, -17....   \n",
       "3  [-12.167478, -13.706167, -16.54837, -13.572674...   \n",
       "4  [-23.37459373474121, -26.02718162536621, -28.1...   \n",
       "\n",
       "                                              band_2        id  inc_angle  \n",
       "0  [-21.629612, -21.142353, -23.908337, -28.34524...  5941774d  34.966400  \n",
       "1  [-25.754207611083984, -25.754207611083984, -25...  4023181e  32.615072  \n",
       "2  [-14.74563980102539, -14.590410232543945, -14....  b20200e4  37.505433  \n",
       "3  [-24.32222, -26.375538, -24.096739, -23.8769, ...  e7f018bb  34.473900  \n",
       "4  [-25.72234344482422, -27.011577606201172, -23....  4371c8c3  43.918874  "
      ]
     },
     "execution_count": 41,
     "metadata": {},
     "output_type": "execute_result"
    }
   ],
   "source": [
    "test.head()"
   ]
  },
  {
   "cell_type": "code",
   "execution_count": 42,
   "metadata": {
    "collapsed": false
   },
   "outputs": [
    {
     "data": {
      "text/html": [
       "<div>\n",
       "<style scoped>\n",
       "    .dataframe tbody tr th:only-of-type {\n",
       "        vertical-align: middle;\n",
       "    }\n",
       "\n",
       "    .dataframe tbody tr th {\n",
       "        vertical-align: top;\n",
       "    }\n",
       "\n",
       "    .dataframe thead th {\n",
       "        text-align: right;\n",
       "    }\n",
       "</style>\n",
       "<table border=\"1\" class=\"dataframe\">\n",
       "  <thead>\n",
       "    <tr style=\"text-align: right;\">\n",
       "      <th></th>\n",
       "      <th>id</th>\n",
       "      <th>is_iceberg_0</th>\n",
       "      <th>is_iceberg_1</th>\n",
       "      <th>is_iceberg_2</th>\n",
       "      <th>is_iceberg_3</th>\n",
       "      <th>is_iceberg_4</th>\n",
       "    </tr>\n",
       "  </thead>\n",
       "  <tbody>\n",
       "    <tr>\n",
       "      <th>0</th>\n",
       "      <td>5941774d</td>\n",
       "      <td>2.219321e-02</td>\n",
       "      <td>5.640716e-03</td>\n",
       "      <td>8.015390e-03</td>\n",
       "      <td>1.914136e-02</td>\n",
       "      <td>1.287736e-01</td>\n",
       "    </tr>\n",
       "    <tr>\n",
       "      <th>1</th>\n",
       "      <td>4023181e</td>\n",
       "      <td>2.963234e-01</td>\n",
       "      <td>9.442012e-01</td>\n",
       "      <td>4.307120e-01</td>\n",
       "      <td>1.000000e+00</td>\n",
       "      <td>1.434696e-01</td>\n",
       "    </tr>\n",
       "    <tr>\n",
       "      <th>2</th>\n",
       "      <td>b20200e4</td>\n",
       "      <td>1.202049e-17</td>\n",
       "      <td>4.619928e-17</td>\n",
       "      <td>2.254251e-20</td>\n",
       "      <td>8.278883e-08</td>\n",
       "      <td>2.877008e-38</td>\n",
       "    </tr>\n",
       "    <tr>\n",
       "      <th>3</th>\n",
       "      <td>e7f018bb</td>\n",
       "      <td>9.999999e-01</td>\n",
       "      <td>9.999901e-01</td>\n",
       "      <td>9.999712e-01</td>\n",
       "      <td>1.000000e+00</td>\n",
       "      <td>9.999992e-01</td>\n",
       "    </tr>\n",
       "    <tr>\n",
       "      <th>4</th>\n",
       "      <td>4371c8c3</td>\n",
       "      <td>9.823971e-01</td>\n",
       "      <td>7.043053e-03</td>\n",
       "      <td>9.999754e-01</td>\n",
       "      <td>9.999492e-01</td>\n",
       "      <td>9.876493e-01</td>\n",
       "    </tr>\n",
       "  </tbody>\n",
       "</table>\n",
       "</div>"
      ],
      "text/plain": [
       "         id  is_iceberg_0  is_iceberg_1  is_iceberg_2  is_iceberg_3  \\\n",
       "0  5941774d  2.219321e-02  5.640716e-03  8.015390e-03  1.914136e-02   \n",
       "1  4023181e  2.963234e-01  9.442012e-01  4.307120e-01  1.000000e+00   \n",
       "2  b20200e4  1.202049e-17  4.619928e-17  2.254251e-20  8.278883e-08   \n",
       "3  e7f018bb  9.999999e-01  9.999901e-01  9.999712e-01  1.000000e+00   \n",
       "4  4371c8c3  9.823971e-01  7.043053e-03  9.999754e-01  9.999492e-01   \n",
       "\n",
       "   is_iceberg_4  \n",
       "0  1.287736e-01  \n",
       "1  1.434696e-01  \n",
       "2  2.877008e-38  \n",
       "3  9.999992e-01  \n",
       "4  9.876493e-01  "
      ]
     },
     "execution_count": 42,
     "metadata": {},
     "output_type": "execute_result"
    }
   ],
   "source": [
    "sub_path = \"../test_pred/\"\n",
    "all_files = [name for name in os.listdir(sub_path)]\n",
    "\n",
    "# Read and concatenate submissions\n",
    "outs = [pd.read_csv(os.path.join(sub_path, f), index_col=0) for f in all_files]\n",
    "concat_sub = pd.concat(outs, axis=1)\n",
    "cols = list(map(lambda x: \"is_iceberg_\" + str(x), range(len(concat_sub.columns))))\n",
    "concat_sub.columns = cols\n",
    "concat_sub.reset_index(inplace=True)\n",
    "concat_sub.head()"
   ]
  },
  {
   "cell_type": "code",
   "execution_count": 43,
   "metadata": {
    "collapsed": true
   },
   "outputs": [],
   "source": [
    "test = pd.merge(test, concat_sub, on='id')"
   ]
  },
  {
   "cell_type": "code",
   "execution_count": 44,
   "metadata": {
    "collapsed": false
   },
   "outputs": [],
   "source": [
    "test.drop(['id', 'inc_angle'], axis=1, inplace=True)"
   ]
  },
  {
   "cell_type": "code",
   "execution_count": 45,
   "metadata": {
    "collapsed": true
   },
   "outputs": [],
   "source": [
    "test.drop(['band_1', 'band_2'], axis=1, inplace=True)"
   ]
  },
  {
   "cell_type": "code",
   "execution_count": 46,
   "metadata": {
    "collapsed": false
   },
   "outputs": [
    {
     "data": {
      "text/html": [
       "<div>\n",
       "<style scoped>\n",
       "    .dataframe tbody tr th:only-of-type {\n",
       "        vertical-align: middle;\n",
       "    }\n",
       "\n",
       "    .dataframe tbody tr th {\n",
       "        vertical-align: top;\n",
       "    }\n",
       "\n",
       "    .dataframe thead th {\n",
       "        text-align: right;\n",
       "    }\n",
       "</style>\n",
       "<table border=\"1\" class=\"dataframe\">\n",
       "  <thead>\n",
       "    <tr style=\"text-align: right;\">\n",
       "      <th></th>\n",
       "      <th>is_iceberg_0</th>\n",
       "      <th>is_iceberg_1</th>\n",
       "      <th>is_iceberg_2</th>\n",
       "      <th>is_iceberg_3</th>\n",
       "      <th>is_iceberg_4</th>\n",
       "    </tr>\n",
       "  </thead>\n",
       "  <tbody>\n",
       "    <tr>\n",
       "      <th>0</th>\n",
       "      <td>2.219321e-02</td>\n",
       "      <td>5.640716e-03</td>\n",
       "      <td>8.015390e-03</td>\n",
       "      <td>1.914136e-02</td>\n",
       "      <td>1.287736e-01</td>\n",
       "    </tr>\n",
       "    <tr>\n",
       "      <th>1</th>\n",
       "      <td>2.963234e-01</td>\n",
       "      <td>9.442012e-01</td>\n",
       "      <td>4.307120e-01</td>\n",
       "      <td>1.000000e+00</td>\n",
       "      <td>1.434696e-01</td>\n",
       "    </tr>\n",
       "    <tr>\n",
       "      <th>2</th>\n",
       "      <td>1.202049e-17</td>\n",
       "      <td>4.619928e-17</td>\n",
       "      <td>2.254251e-20</td>\n",
       "      <td>8.278883e-08</td>\n",
       "      <td>2.877008e-38</td>\n",
       "    </tr>\n",
       "    <tr>\n",
       "      <th>3</th>\n",
       "      <td>9.999999e-01</td>\n",
       "      <td>9.999901e-01</td>\n",
       "      <td>9.999712e-01</td>\n",
       "      <td>1.000000e+00</td>\n",
       "      <td>9.999992e-01</td>\n",
       "    </tr>\n",
       "    <tr>\n",
       "      <th>4</th>\n",
       "      <td>9.823971e-01</td>\n",
       "      <td>7.043053e-03</td>\n",
       "      <td>9.999754e-01</td>\n",
       "      <td>9.999492e-01</td>\n",
       "      <td>9.876493e-01</td>\n",
       "    </tr>\n",
       "  </tbody>\n",
       "</table>\n",
       "</div>"
      ],
      "text/plain": [
       "   is_iceberg_0  is_iceberg_1  is_iceberg_2  is_iceberg_3  is_iceberg_4\n",
       "0  2.219321e-02  5.640716e-03  8.015390e-03  1.914136e-02  1.287736e-01\n",
       "1  2.963234e-01  9.442012e-01  4.307120e-01  1.000000e+00  1.434696e-01\n",
       "2  1.202049e-17  4.619928e-17  2.254251e-20  8.278883e-08  2.877008e-38\n",
       "3  9.999999e-01  9.999901e-01  9.999712e-01  1.000000e+00  9.999992e-01\n",
       "4  9.823971e-01  7.043053e-03  9.999754e-01  9.999492e-01  9.876493e-01"
      ]
     },
     "execution_count": 46,
     "metadata": {},
     "output_type": "execute_result"
    }
   ],
   "source": [
    "test.head()"
   ]
  },
  {
   "cell_type": "code",
   "execution_count": 47,
   "metadata": {
    "collapsed": true
   },
   "outputs": [],
   "source": [
    "x_test = test.as_matrix()"
   ]
  },
  {
   "cell_type": "code",
   "execution_count": 49,
   "metadata": {
    "collapsed": true
   },
   "outputs": [],
   "source": [
    "gbm_y = gbm.predict_proba(x_test)[:, 1]\n",
    "mlp_y = mlp.predict_proba(x_test)[:, 1]\n",
    "\n",
    "alpha = 0.42\n",
    "y_test = alpha * gbm_y + (1 - alpha) * mlp_y"
   ]
  },
  {
   "cell_type": "code",
   "execution_count": 50,
   "metadata": {
    "collapsed": false
   },
   "outputs": [
    {
     "data": {
      "text/plain": [
       "array([ 0.01262511,  0.5451028 ,  0.00563465, ...,  0.00568622,\n",
       "        0.9915046 ,  0.28483054])"
      ]
     },
     "execution_count": 50,
     "metadata": {},
     "output_type": "execute_result"
    }
   ],
   "source": [
    "y_test"
   ]
  },
  {
   "cell_type": "code",
   "execution_count": 51,
   "metadata": {
    "collapsed": false
   },
   "outputs": [
    {
     "data": {
      "text/plain": [
       "array([ 0.00999103,  0.62694719,  0.0074399 , ...,  0.00752881,\n",
       "        0.98773266,  0.3114672 ])"
      ]
     },
     "execution_count": 51,
     "metadata": {},
     "output_type": "execute_result"
    }
   ],
   "source": [
    "mlp_y"
   ]
  },
  {
   "cell_type": "code",
   "execution_count": 52,
   "metadata": {
    "collapsed": false
   },
   "outputs": [
    {
     "data": {
      "text/plain": [
       "array([ 0.01626266,  0.43207961,  0.00314167, ...,  0.00314167,\n",
       "        0.99671352,  0.24804661], dtype=float32)"
      ]
     },
     "execution_count": 52,
     "metadata": {},
     "output_type": "execute_result"
    }
   ],
   "source": [
    "gbm_y"
   ]
  },
  {
   "cell_type": "code",
   "execution_count": 53,
   "metadata": {
    "collapsed": false
   },
   "outputs": [],
   "source": [
    "def prepare_submission_train(proba, path):\n",
    "    test = pd.read_json(\"../input/test.json\")\n",
    "    proba = np.array(proba)\n",
    "\n",
    "    submission = pd.DataFrame()\n",
    "    submission['id'] = test['id']\n",
    "    submission['is_iceberg'] = proba.reshape((-1, 1))\n",
    "    submission.to_csv(path, float_format='%.15f', index=False)\n",
    "    \n",
    "prepare_submission_train(y_test, path='./stacked_models.csv')"
   ]
  },
  {
   "cell_type": "code",
   "execution_count": 103,
   "metadata": {
    "collapsed": false
   },
   "outputs": [
    {
     "data": {
      "text/html": [
       "<div>\n",
       "<style scoped>\n",
       "    .dataframe tbody tr th:only-of-type {\n",
       "        vertical-align: middle;\n",
       "    }\n",
       "\n",
       "    .dataframe tbody tr th {\n",
       "        vertical-align: top;\n",
       "    }\n",
       "\n",
       "    .dataframe thead th {\n",
       "        text-align: right;\n",
       "    }\n",
       "</style>\n",
       "<table border=\"1\" class=\"dataframe\">\n",
       "  <thead>\n",
       "    <tr style=\"text-align: right;\">\n",
       "      <th></th>\n",
       "      <th>id</th>\n",
       "      <th>is_iceberg_0</th>\n",
       "      <th>is_iceberg_1</th>\n",
       "    </tr>\n",
       "  </thead>\n",
       "  <tbody>\n",
       "    <tr>\n",
       "      <th>0</th>\n",
       "      <td>5941774d</td>\n",
       "      <td>0.005783</td>\n",
       "      <td>1.914135e-02</td>\n",
       "    </tr>\n",
       "    <tr>\n",
       "      <th>1</th>\n",
       "      <td>4023181e</td>\n",
       "      <td>0.408724</td>\n",
       "      <td>4.307108e-01</td>\n",
       "    </tr>\n",
       "    <tr>\n",
       "      <th>2</th>\n",
       "      <td>b20200e4</td>\n",
       "      <td>0.003810</td>\n",
       "      <td>2.876965e-38</td>\n",
       "    </tr>\n",
       "    <tr>\n",
       "      <th>3</th>\n",
       "      <td>e7f018bb</td>\n",
       "      <td>0.992872</td>\n",
       "      <td>1.000000e+00</td>\n",
       "    </tr>\n",
       "    <tr>\n",
       "      <th>4</th>\n",
       "      <td>4371c8c3</td>\n",
       "      <td>0.324846</td>\n",
       "      <td>9.876491e-01</td>\n",
       "    </tr>\n",
       "  </tbody>\n",
       "</table>\n",
       "</div>"
      ],
      "text/plain": [
       "         id  is_iceberg_0  is_iceberg_1\n",
       "0  5941774d      0.005783  1.914135e-02\n",
       "1  4023181e      0.408724  4.307108e-01\n",
       "2  b20200e4      0.003810  2.876965e-38\n",
       "3  e7f018bb      0.992872  1.000000e+00\n",
       "4  4371c8c3      0.324846  9.876491e-01"
      ]
     },
     "execution_count": 103,
     "metadata": {},
     "output_type": "execute_result"
    }
   ],
   "source": [
    "sub_path = \"../best_models/\"\n",
    "all_files = [name for name in os.listdir(sub_path)]\n",
    "\n",
    "# Read and concatenate submissions\n",
    "outs = [pd.read_csv(os.path.join(sub_path, f), index_col=0) for f in all_files]\n",
    "concat_sub = pd.concat(outs, axis=1)\n",
    "cols = list(map(lambda x: \"is_iceberg_\" + str(x), range(len(concat_sub.columns))))\n",
    "concat_sub.columns = cols\n",
    "concat_sub.reset_index(inplace=True)\n",
    "concat_sub.head()"
   ]
  },
  {
   "cell_type": "code",
   "execution_count": 119,
   "metadata": {
    "collapsed": false
   },
   "outputs": [],
   "source": [
    "x = concat_sub['is_iceberg_0']\n",
    "y = concat_sub['is_iceberg_1']\n",
    "concat_sub['is_iceberg'] = np.where((x > 0.5) & (y > 0.5),\n",
    "                                    np.maximum(x, y),\n",
    "                                    np.where((x < 0.5) & (y < 0.5),\n",
    "                                             np.minimum(x, y),\n",
    "                                             x))"
   ]
  },
  {
   "cell_type": "code",
   "execution_count": 120,
   "metadata": {
    "collapsed": false
   },
   "outputs": [
    {
     "data": {
      "text/html": [
       "<div>\n",
       "<style scoped>\n",
       "    .dataframe tbody tr th:only-of-type {\n",
       "        vertical-align: middle;\n",
       "    }\n",
       "\n",
       "    .dataframe tbody tr th {\n",
       "        vertical-align: top;\n",
       "    }\n",
       "\n",
       "    .dataframe thead th {\n",
       "        text-align: right;\n",
       "    }\n",
       "</style>\n",
       "<table border=\"1\" class=\"dataframe\">\n",
       "  <thead>\n",
       "    <tr style=\"text-align: right;\">\n",
       "      <th></th>\n",
       "      <th>id</th>\n",
       "      <th>is_iceberg_0</th>\n",
       "      <th>is_iceberg_1</th>\n",
       "      <th>is_iceberg</th>\n",
       "    </tr>\n",
       "  </thead>\n",
       "  <tbody>\n",
       "    <tr>\n",
       "      <th>0</th>\n",
       "      <td>5941774d</td>\n",
       "      <td>0.005783</td>\n",
       "      <td>1.914135e-02</td>\n",
       "      <td>5.783030e-03</td>\n",
       "    </tr>\n",
       "    <tr>\n",
       "      <th>1</th>\n",
       "      <td>4023181e</td>\n",
       "      <td>0.408724</td>\n",
       "      <td>4.307108e-01</td>\n",
       "      <td>4.087241e-01</td>\n",
       "    </tr>\n",
       "    <tr>\n",
       "      <th>2</th>\n",
       "      <td>b20200e4</td>\n",
       "      <td>0.003810</td>\n",
       "      <td>2.876965e-38</td>\n",
       "      <td>2.876965e-38</td>\n",
       "    </tr>\n",
       "    <tr>\n",
       "      <th>3</th>\n",
       "      <td>e7f018bb</td>\n",
       "      <td>0.992872</td>\n",
       "      <td>1.000000e+00</td>\n",
       "      <td>1.000000e+00</td>\n",
       "    </tr>\n",
       "    <tr>\n",
       "      <th>4</th>\n",
       "      <td>4371c8c3</td>\n",
       "      <td>0.324846</td>\n",
       "      <td>9.876491e-01</td>\n",
       "      <td>3.248461e-01</td>\n",
       "    </tr>\n",
       "    <tr>\n",
       "      <th>5</th>\n",
       "      <td>a8d9b1fd</td>\n",
       "      <td>0.004062</td>\n",
       "      <td>7.951100e-07</td>\n",
       "      <td>7.951100e-07</td>\n",
       "    </tr>\n",
       "    <tr>\n",
       "      <th>6</th>\n",
       "      <td>29e7727e</td>\n",
       "      <td>0.008473</td>\n",
       "      <td>6.295451e-04</td>\n",
       "      <td>6.295451e-04</td>\n",
       "    </tr>\n",
       "    <tr>\n",
       "      <th>7</th>\n",
       "      <td>92a51ffb</td>\n",
       "      <td>0.992857</td>\n",
       "      <td>1.000000e+00</td>\n",
       "      <td>1.000000e+00</td>\n",
       "    </tr>\n",
       "    <tr>\n",
       "      <th>8</th>\n",
       "      <td>c769ac97</td>\n",
       "      <td>0.003801</td>\n",
       "      <td>3.258789e-09</td>\n",
       "      <td>3.258789e-09</td>\n",
       "    </tr>\n",
       "    <tr>\n",
       "      <th>9</th>\n",
       "      <td>aee0547d</td>\n",
       "      <td>0.003797</td>\n",
       "      <td>2.674118e-08</td>\n",
       "      <td>2.674118e-08</td>\n",
       "    </tr>\n",
       "    <tr>\n",
       "      <th>10</th>\n",
       "      <td>565b28ac</td>\n",
       "      <td>0.003792</td>\n",
       "      <td>3.259620e-14</td>\n",
       "      <td>3.259620e-14</td>\n",
       "    </tr>\n",
       "    <tr>\n",
       "      <th>11</th>\n",
       "      <td>e04e9775</td>\n",
       "      <td>0.919633</td>\n",
       "      <td>1.000000e+00</td>\n",
       "      <td>1.000000e+00</td>\n",
       "    </tr>\n",
       "    <tr>\n",
       "      <th>12</th>\n",
       "      <td>8e8161d1</td>\n",
       "      <td>0.003797</td>\n",
       "      <td>8.894781e-04</td>\n",
       "      <td>8.894781e-04</td>\n",
       "    </tr>\n",
       "    <tr>\n",
       "      <th>13</th>\n",
       "      <td>4cf4d256</td>\n",
       "      <td>0.980411</td>\n",
       "      <td>1.000000e+00</td>\n",
       "      <td>1.000000e+00</td>\n",
       "    </tr>\n",
       "    <tr>\n",
       "      <th>14</th>\n",
       "      <td>139e5324</td>\n",
       "      <td>0.004076</td>\n",
       "      <td>1.128881e-06</td>\n",
       "      <td>1.128881e-06</td>\n",
       "    </tr>\n",
       "    <tr>\n",
       "      <th>15</th>\n",
       "      <td>f156976f</td>\n",
       "      <td>0.004072</td>\n",
       "      <td>1.854725e-04</td>\n",
       "      <td>1.854725e-04</td>\n",
       "    </tr>\n",
       "    <tr>\n",
       "      <th>16</th>\n",
       "      <td>68a117cc</td>\n",
       "      <td>0.017078</td>\n",
       "      <td>1.504137e-03</td>\n",
       "      <td>1.504137e-03</td>\n",
       "    </tr>\n",
       "    <tr>\n",
       "      <th>17</th>\n",
       "      <td>d9aa7a56</td>\n",
       "      <td>0.141476</td>\n",
       "      <td>3.592525e-04</td>\n",
       "      <td>3.592525e-04</td>\n",
       "    </tr>\n",
       "    <tr>\n",
       "      <th>18</th>\n",
       "      <td>9005b143</td>\n",
       "      <td>0.056013</td>\n",
       "      <td>1.056769e-02</td>\n",
       "      <td>1.056769e-02</td>\n",
       "    </tr>\n",
       "    <tr>\n",
       "      <th>19</th>\n",
       "      <td>5f6d3988</td>\n",
       "      <td>0.992589</td>\n",
       "      <td>1.000000e+00</td>\n",
       "      <td>1.000000e+00</td>\n",
       "    </tr>\n",
       "    <tr>\n",
       "      <th>20</th>\n",
       "      <td>9ad70954</td>\n",
       "      <td>0.576726</td>\n",
       "      <td>9.435812e-01</td>\n",
       "      <td>9.435812e-01</td>\n",
       "    </tr>\n",
       "    <tr>\n",
       "      <th>21</th>\n",
       "      <td>b9087b9e</td>\n",
       "      <td>0.093974</td>\n",
       "      <td>4.450037e-01</td>\n",
       "      <td>9.397433e-02</td>\n",
       "    </tr>\n",
       "    <tr>\n",
       "      <th>22</th>\n",
       "      <td>a39a1427</td>\n",
       "      <td>0.015664</td>\n",
       "      <td>1.185878e-05</td>\n",
       "      <td>1.185878e-05</td>\n",
       "    </tr>\n",
       "    <tr>\n",
       "      <th>23</th>\n",
       "      <td>82fbe8ed</td>\n",
       "      <td>0.003511</td>\n",
       "      <td>1.371129e-04</td>\n",
       "      <td>1.371129e-04</td>\n",
       "    </tr>\n",
       "    <tr>\n",
       "      <th>24</th>\n",
       "      <td>1fae4879</td>\n",
       "      <td>0.003776</td>\n",
       "      <td>1.987604e-11</td>\n",
       "      <td>1.987604e-11</td>\n",
       "    </tr>\n",
       "    <tr>\n",
       "      <th>25</th>\n",
       "      <td>6dd8f13d</td>\n",
       "      <td>0.003813</td>\n",
       "      <td>1.607312e-12</td>\n",
       "      <td>1.607312e-12</td>\n",
       "    </tr>\n",
       "    <tr>\n",
       "      <th>26</th>\n",
       "      <td>bbad5958</td>\n",
       "      <td>0.004884</td>\n",
       "      <td>6.398959e-02</td>\n",
       "      <td>4.884085e-03</td>\n",
       "    </tr>\n",
       "    <tr>\n",
       "      <th>27</th>\n",
       "      <td>54527583</td>\n",
       "      <td>0.444520</td>\n",
       "      <td>8.523400e-01</td>\n",
       "      <td>4.445204e-01</td>\n",
       "    </tr>\n",
       "    <tr>\n",
       "      <th>28</th>\n",
       "      <td>be8fa29c</td>\n",
       "      <td>0.615344</td>\n",
       "      <td>1.993250e-01</td>\n",
       "      <td>6.153436e-01</td>\n",
       "    </tr>\n",
       "    <tr>\n",
       "      <th>29</th>\n",
       "      <td>81a3328f</td>\n",
       "      <td>0.992858</td>\n",
       "      <td>1.000000e+00</td>\n",
       "      <td>1.000000e+00</td>\n",
       "    </tr>\n",
       "    <tr>\n",
       "      <th>...</th>\n",
       "      <td>...</td>\n",
       "      <td>...</td>\n",
       "      <td>...</td>\n",
       "      <td>...</td>\n",
       "    </tr>\n",
       "    <tr>\n",
       "      <th>8394</th>\n",
       "      <td>8ae30ce6</td>\n",
       "      <td>0.003876</td>\n",
       "      <td>4.050650e-13</td>\n",
       "      <td>4.050650e-13</td>\n",
       "    </tr>\n",
       "    <tr>\n",
       "      <th>8395</th>\n",
       "      <td>de27ed88</td>\n",
       "      <td>0.003800</td>\n",
       "      <td>5.594745e-09</td>\n",
       "      <td>5.594745e-09</td>\n",
       "    </tr>\n",
       "    <tr>\n",
       "      <th>8396</th>\n",
       "      <td>66d5196f</td>\n",
       "      <td>0.294063</td>\n",
       "      <td>9.990712e-01</td>\n",
       "      <td>2.940634e-01</td>\n",
       "    </tr>\n",
       "    <tr>\n",
       "      <th>8397</th>\n",
       "      <td>d85f1858</td>\n",
       "      <td>0.452628</td>\n",
       "      <td>9.280535e-01</td>\n",
       "      <td>4.526278e-01</td>\n",
       "    </tr>\n",
       "    <tr>\n",
       "      <th>8398</th>\n",
       "      <td>16dcb33a</td>\n",
       "      <td>0.826809</td>\n",
       "      <td>9.684743e-01</td>\n",
       "      <td>9.684743e-01</td>\n",
       "    </tr>\n",
       "    <tr>\n",
       "      <th>8399</th>\n",
       "      <td>eca3158e</td>\n",
       "      <td>0.128722</td>\n",
       "      <td>1.085658e-07</td>\n",
       "      <td>1.085658e-07</td>\n",
       "    </tr>\n",
       "    <tr>\n",
       "      <th>8400</th>\n",
       "      <td>08daeee6</td>\n",
       "      <td>0.003803</td>\n",
       "      <td>5.615691e-07</td>\n",
       "      <td>5.615691e-07</td>\n",
       "    </tr>\n",
       "    <tr>\n",
       "      <th>8401</th>\n",
       "      <td>e9c513ee</td>\n",
       "      <td>0.003837</td>\n",
       "      <td>2.782612e-05</td>\n",
       "      <td>2.782612e-05</td>\n",
       "    </tr>\n",
       "    <tr>\n",
       "      <th>8402</th>\n",
       "      <td>b1519fa6</td>\n",
       "      <td>0.703923</td>\n",
       "      <td>9.999218e-01</td>\n",
       "      <td>9.999218e-01</td>\n",
       "    </tr>\n",
       "    <tr>\n",
       "      <th>8403</th>\n",
       "      <td>dfc89540</td>\n",
       "      <td>0.973719</td>\n",
       "      <td>1.000000e+00</td>\n",
       "      <td>1.000000e+00</td>\n",
       "    </tr>\n",
       "    <tr>\n",
       "      <th>8404</th>\n",
       "      <td>8fd8c0e9</td>\n",
       "      <td>0.368229</td>\n",
       "      <td>9.902463e-01</td>\n",
       "      <td>3.682292e-01</td>\n",
       "    </tr>\n",
       "    <tr>\n",
       "      <th>8405</th>\n",
       "      <td>45df6347</td>\n",
       "      <td>0.003845</td>\n",
       "      <td>6.956284e-08</td>\n",
       "      <td>6.956284e-08</td>\n",
       "    </tr>\n",
       "    <tr>\n",
       "      <th>8406</th>\n",
       "      <td>bf7928d7</td>\n",
       "      <td>0.003994</td>\n",
       "      <td>7.465663e-09</td>\n",
       "      <td>7.465663e-09</td>\n",
       "    </tr>\n",
       "    <tr>\n",
       "      <th>8407</th>\n",
       "      <td>7b587c05</td>\n",
       "      <td>0.004015</td>\n",
       "      <td>7.848893e-05</td>\n",
       "      <td>7.848893e-05</td>\n",
       "    </tr>\n",
       "    <tr>\n",
       "      <th>8408</th>\n",
       "      <td>c2834388</td>\n",
       "      <td>0.384455</td>\n",
       "      <td>8.496418e-01</td>\n",
       "      <td>3.844549e-01</td>\n",
       "    </tr>\n",
       "    <tr>\n",
       "      <th>8409</th>\n",
       "      <td>146143c3</td>\n",
       "      <td>0.993286</td>\n",
       "      <td>9.999810e-01</td>\n",
       "      <td>9.999810e-01</td>\n",
       "    </tr>\n",
       "    <tr>\n",
       "      <th>8410</th>\n",
       "      <td>d59aee00</td>\n",
       "      <td>0.003793</td>\n",
       "      <td>4.338377e-12</td>\n",
       "      <td>4.338377e-12</td>\n",
       "    </tr>\n",
       "    <tr>\n",
       "      <th>8411</th>\n",
       "      <td>cbc0b93b</td>\n",
       "      <td>0.079546</td>\n",
       "      <td>1.006603e-01</td>\n",
       "      <td>7.954584e-02</td>\n",
       "    </tr>\n",
       "    <tr>\n",
       "      <th>8412</th>\n",
       "      <td>088e2ff7</td>\n",
       "      <td>0.985456</td>\n",
       "      <td>9.360754e-01</td>\n",
       "      <td>9.854565e-01</td>\n",
       "    </tr>\n",
       "    <tr>\n",
       "      <th>8413</th>\n",
       "      <td>673d33cd</td>\n",
       "      <td>0.007528</td>\n",
       "      <td>1.045101e-01</td>\n",
       "      <td>7.528183e-03</td>\n",
       "    </tr>\n",
       "    <tr>\n",
       "      <th>8414</th>\n",
       "      <td>674b031e</td>\n",
       "      <td>0.003836</td>\n",
       "      <td>2.924250e-08</td>\n",
       "      <td>2.924250e-08</td>\n",
       "    </tr>\n",
       "    <tr>\n",
       "      <th>8415</th>\n",
       "      <td>43db4207</td>\n",
       "      <td>0.956725</td>\n",
       "      <td>9.999850e-01</td>\n",
       "      <td>9.999850e-01</td>\n",
       "    </tr>\n",
       "    <tr>\n",
       "      <th>8416</th>\n",
       "      <td>156855e1</td>\n",
       "      <td>0.003777</td>\n",
       "      <td>1.716146e-15</td>\n",
       "      <td>1.716146e-15</td>\n",
       "    </tr>\n",
       "    <tr>\n",
       "      <th>8417</th>\n",
       "      <td>ac96cfb0</td>\n",
       "      <td>0.393885</td>\n",
       "      <td>5.666455e-01</td>\n",
       "      <td>3.938846e-01</td>\n",
       "    </tr>\n",
       "    <tr>\n",
       "      <th>8418</th>\n",
       "      <td>fe45aef5</td>\n",
       "      <td>0.987432</td>\n",
       "      <td>9.381101e-01</td>\n",
       "      <td>9.874319e-01</td>\n",
       "    </tr>\n",
       "    <tr>\n",
       "      <th>8419</th>\n",
       "      <td>16ee9b50</td>\n",
       "      <td>0.003803</td>\n",
       "      <td>5.954444e-15</td>\n",
       "      <td>5.954444e-15</td>\n",
       "    </tr>\n",
       "    <tr>\n",
       "      <th>8420</th>\n",
       "      <td>5a599eb7</td>\n",
       "      <td>0.006058</td>\n",
       "      <td>8.156669e-03</td>\n",
       "      <td>6.057636e-03</td>\n",
       "    </tr>\n",
       "    <tr>\n",
       "      <th>8421</th>\n",
       "      <td>df30d6dd</td>\n",
       "      <td>0.004038</td>\n",
       "      <td>1.340385e-04</td>\n",
       "      <td>1.340385e-04</td>\n",
       "    </tr>\n",
       "    <tr>\n",
       "      <th>8422</th>\n",
       "      <td>18af95b1</td>\n",
       "      <td>0.992778</td>\n",
       "      <td>9.999999e-01</td>\n",
       "      <td>9.999999e-01</td>\n",
       "    </tr>\n",
       "    <tr>\n",
       "      <th>8423</th>\n",
       "      <td>27d788c8</td>\n",
       "      <td>0.034624</td>\n",
       "      <td>2.148710e-01</td>\n",
       "      <td>3.462439e-02</td>\n",
       "    </tr>\n",
       "  </tbody>\n",
       "</table>\n",
       "<p>8424 rows × 4 columns</p>\n",
       "</div>"
      ],
      "text/plain": [
       "            id  is_iceberg_0  is_iceberg_1    is_iceberg\n",
       "0     5941774d      0.005783  1.914135e-02  5.783030e-03\n",
       "1     4023181e      0.408724  4.307108e-01  4.087241e-01\n",
       "2     b20200e4      0.003810  2.876965e-38  2.876965e-38\n",
       "3     e7f018bb      0.992872  1.000000e+00  1.000000e+00\n",
       "4     4371c8c3      0.324846  9.876491e-01  3.248461e-01\n",
       "5     a8d9b1fd      0.004062  7.951100e-07  7.951100e-07\n",
       "6     29e7727e      0.008473  6.295451e-04  6.295451e-04\n",
       "7     92a51ffb      0.992857  1.000000e+00  1.000000e+00\n",
       "8     c769ac97      0.003801  3.258789e-09  3.258789e-09\n",
       "9     aee0547d      0.003797  2.674118e-08  2.674118e-08\n",
       "10    565b28ac      0.003792  3.259620e-14  3.259620e-14\n",
       "11    e04e9775      0.919633  1.000000e+00  1.000000e+00\n",
       "12    8e8161d1      0.003797  8.894781e-04  8.894781e-04\n",
       "13    4cf4d256      0.980411  1.000000e+00  1.000000e+00\n",
       "14    139e5324      0.004076  1.128881e-06  1.128881e-06\n",
       "15    f156976f      0.004072  1.854725e-04  1.854725e-04\n",
       "16    68a117cc      0.017078  1.504137e-03  1.504137e-03\n",
       "17    d9aa7a56      0.141476  3.592525e-04  3.592525e-04\n",
       "18    9005b143      0.056013  1.056769e-02  1.056769e-02\n",
       "19    5f6d3988      0.992589  1.000000e+00  1.000000e+00\n",
       "20    9ad70954      0.576726  9.435812e-01  9.435812e-01\n",
       "21    b9087b9e      0.093974  4.450037e-01  9.397433e-02\n",
       "22    a39a1427      0.015664  1.185878e-05  1.185878e-05\n",
       "23    82fbe8ed      0.003511  1.371129e-04  1.371129e-04\n",
       "24    1fae4879      0.003776  1.987604e-11  1.987604e-11\n",
       "25    6dd8f13d      0.003813  1.607312e-12  1.607312e-12\n",
       "26    bbad5958      0.004884  6.398959e-02  4.884085e-03\n",
       "27    54527583      0.444520  8.523400e-01  4.445204e-01\n",
       "28    be8fa29c      0.615344  1.993250e-01  6.153436e-01\n",
       "29    81a3328f      0.992858  1.000000e+00  1.000000e+00\n",
       "...        ...           ...           ...           ...\n",
       "8394  8ae30ce6      0.003876  4.050650e-13  4.050650e-13\n",
       "8395  de27ed88      0.003800  5.594745e-09  5.594745e-09\n",
       "8396  66d5196f      0.294063  9.990712e-01  2.940634e-01\n",
       "8397  d85f1858      0.452628  9.280535e-01  4.526278e-01\n",
       "8398  16dcb33a      0.826809  9.684743e-01  9.684743e-01\n",
       "8399  eca3158e      0.128722  1.085658e-07  1.085658e-07\n",
       "8400  08daeee6      0.003803  5.615691e-07  5.615691e-07\n",
       "8401  e9c513ee      0.003837  2.782612e-05  2.782612e-05\n",
       "8402  b1519fa6      0.703923  9.999218e-01  9.999218e-01\n",
       "8403  dfc89540      0.973719  1.000000e+00  1.000000e+00\n",
       "8404  8fd8c0e9      0.368229  9.902463e-01  3.682292e-01\n",
       "8405  45df6347      0.003845  6.956284e-08  6.956284e-08\n",
       "8406  bf7928d7      0.003994  7.465663e-09  7.465663e-09\n",
       "8407  7b587c05      0.004015  7.848893e-05  7.848893e-05\n",
       "8408  c2834388      0.384455  8.496418e-01  3.844549e-01\n",
       "8409  146143c3      0.993286  9.999810e-01  9.999810e-01\n",
       "8410  d59aee00      0.003793  4.338377e-12  4.338377e-12\n",
       "8411  cbc0b93b      0.079546  1.006603e-01  7.954584e-02\n",
       "8412  088e2ff7      0.985456  9.360754e-01  9.854565e-01\n",
       "8413  673d33cd      0.007528  1.045101e-01  7.528183e-03\n",
       "8414  674b031e      0.003836  2.924250e-08  2.924250e-08\n",
       "8415  43db4207      0.956725  9.999850e-01  9.999850e-01\n",
       "8416  156855e1      0.003777  1.716146e-15  1.716146e-15\n",
       "8417  ac96cfb0      0.393885  5.666455e-01  3.938846e-01\n",
       "8418  fe45aef5      0.987432  9.381101e-01  9.874319e-01\n",
       "8419  16ee9b50      0.003803  5.954444e-15  5.954444e-15\n",
       "8420  5a599eb7      0.006058  8.156669e-03  6.057636e-03\n",
       "8421  df30d6dd      0.004038  1.340385e-04  1.340385e-04\n",
       "8422  18af95b1      0.992778  9.999999e-01  9.999999e-01\n",
       "8423  27d788c8      0.034624  2.148710e-01  3.462439e-02\n",
       "\n",
       "[8424 rows x 4 columns]"
      ]
     },
     "execution_count": 120,
     "metadata": {},
     "output_type": "execute_result"
    }
   ],
   "source": [
    "concat_sub"
   ]
  },
  {
   "cell_type": "code",
   "execution_count": 121,
   "metadata": {
    "collapsed": false
   },
   "outputs": [
    {
     "data": {
      "text/plain": [
       "-0.074311394292661634"
      ]
     },
     "execution_count": 121,
     "metadata": {},
     "output_type": "execute_result"
    }
   ],
   "source": [
    "np.sum(concat_sub['is_iceberg'].as_matrix() - concat_sub['is_iceberg_1'].as_matrix()) / 8423"
   ]
  },
  {
   "cell_type": "code",
   "execution_count": 122,
   "metadata": {
    "collapsed": true
   },
   "outputs": [],
   "source": [
    "def prepare_submission_train(proba, path):\n",
    "    test = pd.read_json(\"../input/test.json\")\n",
    "    proba = np.array(proba)\n",
    "\n",
    "    submission = pd.DataFrame()\n",
    "    submission['id'] = test['id']\n",
    "    submission['is_iceberg'] = proba.reshape((-1, 1))\n",
    "    submission.to_csv(path, float_format='%.15f', index=False)\n",
    "    \n",
    "prepare_submission_train(concat_sub['is_iceberg'].as_matrix(), path='./stacked_models_stacking.csv')"
   ]
  },
  {
   "cell_type": "code",
   "execution_count": null,
   "metadata": {
    "collapsed": true
   },
   "outputs": [],
   "source": []
  }
 ],
 "metadata": {
  "kernelspec": {
   "display_name": "Python 3",
   "language": "python",
   "name": "python3"
  },
  "language_info": {
   "codemirror_mode": {
    "name": "ipython",
    "version": 3
   },
   "file_extension": ".py",
   "mimetype": "text/x-python",
   "name": "python",
   "nbconvert_exporter": "python",
   "pygments_lexer": "ipython3",
   "version": "3.6.0"
  }
 },
 "nbformat": 4,
 "nbformat_minor": 2
}
