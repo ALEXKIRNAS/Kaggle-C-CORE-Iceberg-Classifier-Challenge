{
 "cells": [
  {
   "cell_type": "code",
   "execution_count": 1,
   "metadata": {
    "collapsed": false
   },
   "outputs": [
    {
     "name": "stdout",
     "output_type": "stream",
     "text": [
      "test.json\n",
      "train.json\n",
      "\n"
     ]
    }
   ],
   "source": [
    "import os\n",
    "import numpy as np \n",
    "import pandas as pd \n",
    "from subprocess import check_output\n",
    "print(check_output([\"ls\", \"../input\"]).decode(\"utf8\"))"
   ]
  },
  {
   "cell_type": "code",
   "execution_count": 2,
   "metadata": {
    "collapsed": false
   },
   "outputs": [
    {
     "data": {
      "text/html": [
       "<div>\n",
       "<style scoped>\n",
       "    .dataframe tbody tr th:only-of-type {\n",
       "        vertical-align: middle;\n",
       "    }\n",
       "\n",
       "    .dataframe tbody tr th {\n",
       "        vertical-align: top;\n",
       "    }\n",
       "\n",
       "    .dataframe thead th {\n",
       "        text-align: right;\n",
       "    }\n",
       "</style>\n",
       "<table border=\"1\" class=\"dataframe\">\n",
       "  <thead>\n",
       "    <tr style=\"text-align: right;\">\n",
       "      <th></th>\n",
       "      <th>id</th>\n",
       "      <th>is_iceberg_0</th>\n",
       "      <th>is_iceberg_1</th>\n",
       "      <th>is_iceberg_2</th>\n",
       "      <th>is_iceberg_3</th>\n",
       "      <th>is_iceberg_4</th>\n",
       "    </tr>\n",
       "  </thead>\n",
       "  <tbody>\n",
       "    <tr>\n",
       "      <th>0</th>\n",
       "      <td>5941774d</td>\n",
       "      <td>1.374767e-02</td>\n",
       "      <td>1.093249e-02</td>\n",
       "      <td>8.015390e-03</td>\n",
       "      <td>1.357837e-02</td>\n",
       "      <td>3.675285e-02</td>\n",
       "    </tr>\n",
       "    <tr>\n",
       "      <th>1</th>\n",
       "      <td>4023181e</td>\n",
       "      <td>6.678092e-01</td>\n",
       "      <td>7.916377e-01</td>\n",
       "      <td>4.307120e-01</td>\n",
       "      <td>7.153560e-01</td>\n",
       "      <td>5.629413e-01</td>\n",
       "    </tr>\n",
       "    <tr>\n",
       "      <th>2</th>\n",
       "      <td>b20200e4</td>\n",
       "      <td>2.069721e-08</td>\n",
       "      <td>2.759628e-08</td>\n",
       "      <td>2.254251e-20</td>\n",
       "      <td>4.139442e-08</td>\n",
       "      <td>1.655777e-08</td>\n",
       "    </tr>\n",
       "    <tr>\n",
       "      <th>3</th>\n",
       "      <td>e7f018bb</td>\n",
       "      <td>9.999903e-01</td>\n",
       "      <td>9.999871e-01</td>\n",
       "      <td>9.999712e-01</td>\n",
       "      <td>9.999856e-01</td>\n",
       "      <td>9.999921e-01</td>\n",
       "    </tr>\n",
       "    <tr>\n",
       "      <th>4</th>\n",
       "      <td>4371c8c3</td>\n",
       "      <td>7.473412e-01</td>\n",
       "      <td>6.689892e-01</td>\n",
       "      <td>9.999754e-01</td>\n",
       "      <td>9.999623e-01</td>\n",
       "      <td>7.954028e-01</td>\n",
       "    </tr>\n",
       "  </tbody>\n",
       "</table>\n",
       "</div>"
      ],
      "text/plain": [
       "         id  is_iceberg_0  is_iceberg_1  is_iceberg_2  is_iceberg_3  \\\n",
       "0  5941774d  1.374767e-02  1.093249e-02  8.015390e-03  1.357837e-02   \n",
       "1  4023181e  6.678092e-01  7.916377e-01  4.307120e-01  7.153560e-01   \n",
       "2  b20200e4  2.069721e-08  2.759628e-08  2.254251e-20  4.139442e-08   \n",
       "3  e7f018bb  9.999903e-01  9.999871e-01  9.999712e-01  9.999856e-01   \n",
       "4  4371c8c3  7.473412e-01  6.689892e-01  9.999754e-01  9.999623e-01   \n",
       "\n",
       "   is_iceberg_4  \n",
       "0  3.675285e-02  \n",
       "1  5.629413e-01  \n",
       "2  1.655777e-08  \n",
       "3  9.999921e-01  \n",
       "4  7.954028e-01  "
      ]
     },
     "execution_count": 2,
     "metadata": {},
     "output_type": "execute_result"
    }
   ],
   "source": [
    "sub_path = \"../best_models/\"\n",
    "all_files = [name for name in os.listdir(sub_path)]\n",
    "\n",
    "# Read and concatenate submissions\n",
    "outs = [pd.read_csv(os.path.join(sub_path, f), index_col=0) for f in all_files]\n",
    "concat_sub = pd.concat(outs, axis=1)\n",
    "cols = list(map(lambda x: \"is_iceberg_\" + str(x), range(len(concat_sub.columns))))\n",
    "concat_sub.columns = cols\n",
    "concat_sub.reset_index(inplace=True)\n",
    "concat_sub.head()"
   ]
  },
  {
   "cell_type": "code",
   "execution_count": 3,
   "metadata": {
    "collapsed": false
   },
   "outputs": [
    {
     "data": {
      "text/plain": [
       "is_iceberg_0    3\n",
       "is_iceberg_1    4\n",
       "is_iceberg_2    1\n",
       "is_iceberg_3    2\n",
       "is_iceberg_4    3\n",
       "dtype: int64"
      ]
     },
     "execution_count": 3,
     "metadata": {},
     "output_type": "execute_result"
    }
   ],
   "source": [
    "np.sum(concat_sub.corr() > 0.95)"
   ]
  },
  {
   "cell_type": "code",
   "execution_count": 4,
   "metadata": {
    "collapsed": true
   },
   "outputs": [],
   "source": [
    "threshold_high = 0.9\n",
    "threshold_low = 0.1"
   ]
  },
  {
   "cell_type": "code",
   "execution_count": 5,
   "metadata": {
    "collapsed": false
   },
   "outputs": [],
   "source": [
    "result = []\n",
    "scores = []\n",
    "undefined = []\n",
    "\n",
    "for _, row in concat_sub.iterrows():\n",
    "    name = row.id\n",
    "    row = row.copy().drop('id')\n",
    "    high_score_count = np.sum(row > threshold_high)\n",
    "    low_score_count = np.sum(row < threshold_low)\n",
    "    mid_score_count = len(row) - high_score_count - low_score_count\n",
    "    \n",
    "    if high_score_count == len(row):\n",
    "        dist = 1\n",
    "    elif low_score_count == len(row):\n",
    "        dist = 0\n",
    "    else:\n",
    "        dist = 0.5\n",
    "        undefined.extend(row)\n",
    "    \n",
    "    scores.append(dist)\n",
    "    \n",
    "    if dist == 1.:\n",
    "        score = 1.\n",
    "    elif dist == 0:\n",
    "        score = 0.\n",
    "    else:\n",
    "        score = np.median(row)\n",
    "        \n",
    "    result.append({\n",
    "        'id': name,\n",
    "        'is_iceberg': score,\n",
    "    })"
   ]
  },
  {
   "cell_type": "code",
   "execution_count": 6,
   "metadata": {
    "collapsed": false
   },
   "outputs": [
    {
     "data": {
      "text/plain": [
       "(array([ 2164.,     0.,     0.,     0.,     0.,  4453.,     0.,     0.,\n",
       "            0.,  1807.]),\n",
       " array([ 0. ,  0.1,  0.2,  0.3,  0.4,  0.5,  0.6,  0.7,  0.8,  0.9,  1. ]),\n",
       " <a list of 10 Patch objects>)"
      ]
     },
     "execution_count": 6,
     "metadata": {},
     "output_type": "execute_result"
    },
    {
     "data": {
      "image/png": "[encoded data removed]",
      "text/plain": [
       "<matplotlib.figure.Figure at 0x104935978>"
      ]
     },
     "metadata": {},
     "output_type": "display_data"
    }
   ],
   "source": [
    "from matplotlib import pyplot as plt\n",
    "%matplotlib inline\n",
    "\n",
    "plt.hist(scores, bins=10)"
   ]
  },
  {
   "cell_type": "code",
   "execution_count": 7,
   "metadata": {
    "collapsed": false
   },
   "outputs": [
    {
     "data": {
      "text/plain": [
       "(array([ 1446.,   164.,   204.,   233.,   264.,   263.,   283.,   249.,\n",
       "          262.,   469.,   628.,   305.,   798.,   280.,   228.,   259.,\n",
       "          839.,   302.,   262.,   261.,   334.,   255.,   261.,   293.,\n",
       "          652.,   757.,   346.,   292.,   290.,   324.,   375.,   321.,\n",
       "          430.,   962.,   399.,   357.,   366.,   606.,   392.,   449.,\n",
       "          424.,   342.,   339.,   372.,   371.,   342.,   292.,   252.,\n",
       "          284.,  2787.]),\n",
       " array([  9.21088271e-24,   2.00000000e-02,   4.00000000e-02,\n",
       "          6.00000000e-02,   8.00000000e-02,   1.00000000e-01,\n",
       "          1.20000000e-01,   1.40000000e-01,   1.60000000e-01,\n",
       "          1.80000000e-01,   2.00000000e-01,   2.20000000e-01,\n",
       "          2.40000000e-01,   2.60000000e-01,   2.80000000e-01,\n",
       "          3.00000000e-01,   3.20000000e-01,   3.40000000e-01,\n",
       "          3.60000000e-01,   3.80000000e-01,   4.00000000e-01,\n",
       "          4.20000000e-01,   4.40000000e-01,   4.60000000e-01,\n",
       "          4.80000000e-01,   5.00000000e-01,   5.20000000e-01,\n",
       "          5.40000000e-01,   5.60000000e-01,   5.80000000e-01,\n",
       "          6.00000000e-01,   6.20000000e-01,   6.40000000e-01,\n",
       "          6.60000000e-01,   6.80000000e-01,   7.00000000e-01,\n",
       "          7.20000000e-01,   7.40000000e-01,   7.60000000e-01,\n",
       "          7.80000000e-01,   8.00000000e-01,   8.20000000e-01,\n",
       "          8.40000000e-01,   8.60000000e-01,   8.80000000e-01,\n",
       "          9.00000000e-01,   9.20000000e-01,   9.40000000e-01,\n",
       "          9.60000000e-01,   9.80000000e-01,   1.00000000e+00]),\n",
       " <a list of 50 Patch objects>)"
      ]
     },
     "execution_count": 7,
     "metadata": {},
     "output_type": "execute_result"
    },
    {
     "data": {
      "image/png": "[encoded data removed]",
      "text/plain": [
       "<matplotlib.figure.Figure at 0x104bc5b00>"
      ]
     },
     "metadata": {},
     "output_type": "display_data"
    }
   ],
   "source": [
    "plt.hist(undefined, bins=50)"
   ]
  },
  {
   "cell_type": "code",
   "execution_count": 8,
   "metadata": {
    "collapsed": false
   },
   "outputs": [
    {
     "data": {
      "text/html": [
       "<div>\n",
       "<style scoped>\n",
       "    .dataframe tbody tr th:only-of-type {\n",
       "        vertical-align: middle;\n",
       "    }\n",
       "\n",
       "    .dataframe tbody tr th {\n",
       "        vertical-align: top;\n",
       "    }\n",
       "\n",
       "    .dataframe thead th {\n",
       "        text-align: right;\n",
       "    }\n",
       "</style>\n",
       "<table border=\"1\" class=\"dataframe\">\n",
       "  <thead>\n",
       "    <tr style=\"text-align: right;\">\n",
       "      <th></th>\n",
       "      <th>id</th>\n",
       "      <th>is_iceberg</th>\n",
       "    </tr>\n",
       "  </thead>\n",
       "  <tbody>\n",
       "    <tr>\n",
       "      <th>0</th>\n",
       "      <td>5941774d</td>\n",
       "      <td>0.000000</td>\n",
       "    </tr>\n",
       "    <tr>\n",
       "      <th>1</th>\n",
       "      <td>4023181e</td>\n",
       "      <td>0.667809</td>\n",
       "    </tr>\n",
       "    <tr>\n",
       "      <th>2</th>\n",
       "      <td>b20200e4</td>\n",
       "      <td>0.000000</td>\n",
       "    </tr>\n",
       "    <tr>\n",
       "      <th>3</th>\n",
       "      <td>e7f018bb</td>\n",
       "      <td>1.000000</td>\n",
       "    </tr>\n",
       "    <tr>\n",
       "      <th>4</th>\n",
       "      <td>4371c8c3</td>\n",
       "      <td>0.795403</td>\n",
       "    </tr>\n",
       "  </tbody>\n",
       "</table>\n",
       "</div>"
      ],
      "text/plain": [
       "         id  is_iceberg\n",
       "0  5941774d    0.000000\n",
       "1  4023181e    0.667809\n",
       "2  b20200e4    0.000000\n",
       "3  e7f018bb    1.000000\n",
       "4  4371c8c3    0.795403"
      ]
     },
     "execution_count": 8,
     "metadata": {},
     "output_type": "execute_result"
    }
   ],
   "source": [
    "df = pd.DataFrame.from_dict(result)\n",
    "df.to_csv('stack.csv', index=False, float_format='%.15f')\n",
    "pd.read_csv('stack.csv').head()"
   ]
  },
  {
   "cell_type": "code",
   "execution_count": null,
   "metadata": {
    "collapsed": true
   },
   "outputs": [],
   "source": []
  }
 ],
 "metadata": {
  "kernelspec": {
   "display_name": "Python 3",
   "language": "python",
   "name": "python3"
  },
  "language_info": {
   "codemirror_mode": {
    "name": "ipython",
    "version": 3
   },
   "file_extension": ".py",
   "mimetype": "text/x-python",
   "name": "python",
   "nbconvert_exporter": "python",
   "pygments_lexer": "ipython3",
   "version": "3.6.0"
  }
 },
 "nbformat": 4,
 "nbformat_minor": 2
}
