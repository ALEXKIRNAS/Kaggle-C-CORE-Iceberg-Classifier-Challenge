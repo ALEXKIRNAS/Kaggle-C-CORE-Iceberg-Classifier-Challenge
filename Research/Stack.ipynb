{
 "cells": [
  {
   "cell_type": "code",
   "execution_count": 1,
   "metadata": {
    "collapsed": false
   },
   "outputs": [
    {
     "name": "stdout",
     "output_type": "stream",
     "text": [
      "test.json\n",
      "train.json\n",
      "train_test.json\n",
      "\n"
     ]
    }
   ],
   "source": [
    "import os\n",
    "import numpy as np \n",
    "import pandas as pd \n",
    "from subprocess import check_output\n",
    "print(check_output([\"ls\", \"../input\"]).decode(\"utf8\"))"
   ]
  },
  {
   "cell_type": "code",
   "execution_count": 2,
   "metadata": {
    "collapsed": false
   },
   "outputs": [
    {
     "data": {
      "text/html": [
       "<div>\n",
       "<style scoped>\n",
       "    .dataframe tbody tr th:only-of-type {\n",
       "        vertical-align: middle;\n",
       "    }\n",
       "\n",
       "    .dataframe tbody tr th {\n",
       "        vertical-align: top;\n",
       "    }\n",
       "\n",
       "    .dataframe thead th {\n",
       "        text-align: right;\n",
       "    }\n",
       "</style>\n",
       "<table border=\"1\" class=\"dataframe\">\n",
       "  <thead>\n",
       "    <tr style=\"text-align: right;\">\n",
       "      <th></th>\n",
       "      <th>id</th>\n",
       "      <th>is_iceberg_0</th>\n",
       "      <th>is_iceberg_1</th>\n",
       "      <th>is_iceberg_2</th>\n",
       "      <th>is_iceberg_3</th>\n",
       "      <th>is_iceberg_4</th>\n",
       "      <th>is_iceberg_5</th>\n",
       "      <th>is_iceberg_6</th>\n",
       "      <th>is_iceberg_7</th>\n",
       "      <th>is_iceberg_8</th>\n",
       "      <th>is_iceberg_9</th>\n",
       "    </tr>\n",
       "  </thead>\n",
       "  <tbody>\n",
       "    <tr>\n",
       "      <th>0</th>\n",
       "      <td>5941774d</td>\n",
       "      <td>5.640721e-03</td>\n",
       "      <td>1.914135e-02</td>\n",
       "      <td>8.015395e-03</td>\n",
       "      <td>1.287737e-01</td>\n",
       "      <td>2.219316e-02</td>\n",
       "      <td>5.339322e-02</td>\n",
       "      <td>5.373400e-02</td>\n",
       "      <td>8.144345e-03</td>\n",
       "      <td>9.256000e-02</td>\n",
       "      <td>7.197241e-02</td>\n",
       "    </tr>\n",
       "    <tr>\n",
       "      <th>1</th>\n",
       "      <td>4023181e</td>\n",
       "      <td>9.442011e-01</td>\n",
       "      <td>1.000000e+00</td>\n",
       "      <td>4.307108e-01</td>\n",
       "      <td>1.434694e-01</td>\n",
       "      <td>2.963239e-01</td>\n",
       "      <td>9.984128e-01</td>\n",
       "      <td>9.839342e-01</td>\n",
       "      <td>9.779372e-01</td>\n",
       "      <td>9.707115e-01</td>\n",
       "      <td>9.793479e-01</td>\n",
       "    </tr>\n",
       "    <tr>\n",
       "      <th>2</th>\n",
       "      <td>b20200e4</td>\n",
       "      <td>4.619947e-17</td>\n",
       "      <td>8.278884e-08</td>\n",
       "      <td>2.254286e-20</td>\n",
       "      <td>2.876965e-38</td>\n",
       "      <td>1.202058e-17</td>\n",
       "      <td>7.715029e-09</td>\n",
       "      <td>3.264007e-10</td>\n",
       "      <td>1.401375e-08</td>\n",
       "      <td>1.008531e-08</td>\n",
       "      <td>8.204366e-10</td>\n",
       "    </tr>\n",
       "    <tr>\n",
       "      <th>3</th>\n",
       "      <td>e7f018bb</td>\n",
       "      <td>9.999901e-01</td>\n",
       "      <td>1.000000e+00</td>\n",
       "      <td>9.999712e-01</td>\n",
       "      <td>9.999992e-01</td>\n",
       "      <td>9.999999e-01</td>\n",
       "      <td>9.997173e-01</td>\n",
       "      <td>9.995339e-01</td>\n",
       "      <td>9.998590e-01</td>\n",
       "      <td>9.985428e-01</td>\n",
       "      <td>9.999825e-01</td>\n",
       "    </tr>\n",
       "    <tr>\n",
       "      <th>4</th>\n",
       "      <td>4371c8c3</td>\n",
       "      <td>7.043053e-03</td>\n",
       "      <td>9.999492e-01</td>\n",
       "      <td>9.999754e-01</td>\n",
       "      <td>9.876491e-01</td>\n",
       "      <td>9.823971e-01</td>\n",
       "      <td>9.900506e-01</td>\n",
       "      <td>9.288451e-01</td>\n",
       "      <td>5.138242e-01</td>\n",
       "      <td>9.496438e-01</td>\n",
       "      <td>7.155097e-01</td>\n",
       "    </tr>\n",
       "  </tbody>\n",
       "</table>\n",
       "</div>"
      ],
      "text/plain": [
       "         id  is_iceberg_0  is_iceberg_1  is_iceberg_2  is_iceberg_3  \\\n",
       "0  5941774d  5.640721e-03  1.914135e-02  8.015395e-03  1.287737e-01   \n",
       "1  4023181e  9.442011e-01  1.000000e+00  4.307108e-01  1.434694e-01   \n",
       "2  b20200e4  4.619947e-17  8.278884e-08  2.254286e-20  2.876965e-38   \n",
       "3  e7f018bb  9.999901e-01  1.000000e+00  9.999712e-01  9.999992e-01   \n",
       "4  4371c8c3  7.043053e-03  9.999492e-01  9.999754e-01  9.876491e-01   \n",
       "\n",
       "   is_iceberg_4  is_iceberg_5  is_iceberg_6  is_iceberg_7  is_iceberg_8  \\\n",
       "0  2.219316e-02  5.339322e-02  5.373400e-02  8.144345e-03  9.256000e-02   \n",
       "1  2.963239e-01  9.984128e-01  9.839342e-01  9.779372e-01  9.707115e-01   \n",
       "2  1.202058e-17  7.715029e-09  3.264007e-10  1.401375e-08  1.008531e-08   \n",
       "3  9.999999e-01  9.997173e-01  9.995339e-01  9.998590e-01  9.985428e-01   \n",
       "4  9.823971e-01  9.900506e-01  9.288451e-01  5.138242e-01  9.496438e-01   \n",
       "\n",
       "   is_iceberg_9  \n",
       "0  7.197241e-02  \n",
       "1  9.793479e-01  \n",
       "2  8.204366e-10  \n",
       "3  9.999825e-01  \n",
       "4  7.155097e-01  "
      ]
     },
     "execution_count": 2,
     "metadata": {},
     "output_type": "execute_result"
    }
   ],
   "source": [
    "sub_path = \"../best_models/\"\n",
    "all_files = [name for name in os.listdir(sub_path)]\n",
    "\n",
    "# Read and concatenate submissions\n",
    "outs = [pd.read_csv(os.path.join(sub_path, f), index_col=0) for f in all_files]\n",
    "concat_sub = pd.concat(outs, axis=1)\n",
    "cols = list(map(lambda x: \"is_iceberg_\" + str(x), range(len(concat_sub.columns))))\n",
    "concat_sub.columns = cols\n",
    "concat_sub.reset_index(inplace=True)\n",
    "concat_sub.head()"
   ]
  },
  {
   "cell_type": "code",
   "execution_count": 4,
   "metadata": {
    "collapsed": false
   },
   "outputs": [
    {
     "data": {
      "text/plain": [
       "is_iceberg_0     9\n",
       "is_iceberg_1     8\n",
       "is_iceberg_2    10\n",
       "is_iceberg_3     9\n",
       "is_iceberg_4    10\n",
       "is_iceberg_5    10\n",
       "is_iceberg_6    10\n",
       "is_iceberg_7    10\n",
       "is_iceberg_8    10\n",
       "is_iceberg_9    10\n",
       "dtype: int64"
      ]
     },
     "execution_count": 4,
     "metadata": {},
     "output_type": "execute_result"
    }
   ],
   "source": [
    "np.sum(concat_sub.corr() > 0.6)"
   ]
  },
  {
   "cell_type": "code",
   "execution_count": 19,
   "metadata": {
    "collapsed": true
   },
   "outputs": [],
   "source": [
    "threshold_high = 0.8\n",
    "threshold_low = 0.2"
   ]
  },
  {
   "cell_type": "code",
   "execution_count": 20,
   "metadata": {
    "collapsed": false
   },
   "outputs": [],
   "source": [
    "result = []\n",
    "scores = []\n",
    "undefined = []\n",
    "\n",
    "for _, row in concat_sub.iterrows():\n",
    "    name = row.id\n",
    "    row = row.copy().drop('id')\n",
    "    high_score_count = np.sum(row > threshold_high)\n",
    "    low_score_count = np.sum(row < threshold_low)\n",
    "    mid_score_count = len(row) - high_score_count - low_score_count\n",
    "    \n",
    "    if high_score_count == len(row):\n",
    "        dist = 1\n",
    "    elif low_score_count == len(row):\n",
    "        dist = 0\n",
    "    else:\n",
    "        dist = 0.5\n",
    "        undefined.extend(row)\n",
    "    \n",
    "    scores.append(dist)\n",
    "    \n",
    "    if dist == 1.:\n",
    "        score = np.max(row)\n",
    "    elif dist == 0:\n",
    "        score = np.min(row)\n",
    "    else:\n",
    "        score = np.median(row)\n",
    "        \n",
    "    result.append({\n",
    "        'id': name,\n",
    "        'is_iceberg': score,\n",
    "    })"
   ]
  },
  {
   "cell_type": "code",
   "execution_count": 21,
   "metadata": {
    "collapsed": false
   },
   "outputs": [
    {
     "data": {
      "text/plain": [
       "(array([ 1987.,     0.,     0.,     0.,     0.,  4783.,     0.,     0.,\n",
       "            0.,  1654.]),\n",
       " array([ 0. ,  0.1,  0.2,  0.3,  0.4,  0.5,  0.6,  0.7,  0.8,  0.9,  1. ]),\n",
       " <a list of 10 Patch objects>)"
      ]
     },
     "execution_count": 21,
     "metadata": {},
     "output_type": "execute_result"
    },
    {
     "data": {
      "image/png": "[encoded data removed]",
      "text/plain": [
       "<matplotlib.figure.Figure at 0x113037278>"
      ]
     },
     "metadata": {},
     "output_type": "display_data"
    }
   ],
   "source": [
    "from matplotlib import pyplot as plt\n",
    "%matplotlib inline\n",
    "\n",
    "plt.hist(scores, bins=10)"
   ]
  },
  {
   "cell_type": "code",
   "execution_count": 22,
   "metadata": {
    "collapsed": false
   },
   "outputs": [
    {
     "data": {
      "text/plain": [
       "(array([ 11498.,   1494.,   1048.,    820.,    690.,    587.,    541.,\n",
       "           450.,    441.,    386.,    404.,    340.,    363.,    324.,\n",
       "           335.,    331.,    282.,    305.,    274.,    282.,    263.,\n",
       "           297.,    304.,    286.,    291.,    270.,    312.,    262.,\n",
       "           292.,    292.,    312.,    317.,    343.,    371.,    346.,\n",
       "           399.,    399.,    440.,    458.,    478.,    481.,    504.,\n",
       "           585.,    630.,    744.,    844.,   1019.,   1295.,   1843.,\n",
       "         11958.]),\n",
       " array([ 0.  ,  0.02,  0.04,  0.06,  0.08,  0.1 ,  0.12,  0.14,  0.16,\n",
       "         0.18,  0.2 ,  0.22,  0.24,  0.26,  0.28,  0.3 ,  0.32,  0.34,\n",
       "         0.36,  0.38,  0.4 ,  0.42,  0.44,  0.46,  0.48,  0.5 ,  0.52,\n",
       "         0.54,  0.56,  0.58,  0.6 ,  0.62,  0.64,  0.66,  0.68,  0.7 ,\n",
       "         0.72,  0.74,  0.76,  0.78,  0.8 ,  0.82,  0.84,  0.86,  0.88,\n",
       "         0.9 ,  0.92,  0.94,  0.96,  0.98,  1.  ]),\n",
       " <a list of 50 Patch objects>)"
      ]
     },
     "execution_count": 22,
     "metadata": {},
     "output_type": "execute_result"
    },
    {
     "data": {
      "image/png": "[encoded data removed]",
      "text/plain": [
       "<matplotlib.figure.Figure at 0x1122d6518>"
      ]
     },
     "metadata": {},
     "output_type": "display_data"
    }
   ],
   "source": [
    "plt.hist(undefined, bins=50)"
   ]
  },
  {
   "cell_type": "code",
   "execution_count": 23,
   "metadata": {
    "collapsed": false
   },
   "outputs": [
    {
     "data": {
      "text/html": [
       "<div>\n",
       "<style scoped>\n",
       "    .dataframe tbody tr th:only-of-type {\n",
       "        vertical-align: middle;\n",
       "    }\n",
       "\n",
       "    .dataframe tbody tr th {\n",
       "        vertical-align: top;\n",
       "    }\n",
       "\n",
       "    .dataframe thead th {\n",
       "        text-align: right;\n",
       "    }\n",
       "</style>\n",
       "<table border=\"1\" class=\"dataframe\">\n",
       "  <thead>\n",
       "    <tr style=\"text-align: right;\">\n",
       "      <th></th>\n",
       "      <th>id</th>\n",
       "      <th>is_iceberg</th>\n",
       "    </tr>\n",
       "  </thead>\n",
       "  <tbody>\n",
       "    <tr>\n",
       "      <th>0</th>\n",
       "      <td>5941774d</td>\n",
       "      <td>0.005641</td>\n",
       "    </tr>\n",
       "    <tr>\n",
       "      <th>1</th>\n",
       "      <td>4023181e</td>\n",
       "      <td>0.974324</td>\n",
       "    </tr>\n",
       "    <tr>\n",
       "      <th>2</th>\n",
       "      <td>b20200e4</td>\n",
       "      <td>0.000000</td>\n",
       "    </tr>\n",
       "    <tr>\n",
       "      <th>3</th>\n",
       "      <td>e7f018bb</td>\n",
       "      <td>1.000000</td>\n",
       "    </tr>\n",
       "    <tr>\n",
       "      <th>4</th>\n",
       "      <td>4371c8c3</td>\n",
       "      <td>0.966020</td>\n",
       "    </tr>\n",
       "  </tbody>\n",
       "</table>\n",
       "</div>"
      ],
      "text/plain": [
       "         id  is_iceberg\n",
       "0  5941774d    0.005641\n",
       "1  4023181e    0.974324\n",
       "2  b20200e4    0.000000\n",
       "3  e7f018bb    1.000000\n",
       "4  4371c8c3    0.966020"
      ]
     },
     "execution_count": 23,
     "metadata": {},
     "output_type": "execute_result"
    }
   ],
   "source": [
    "df = pd.DataFrame.from_dict(result)\n",
    "df.to_csv('stack.csv', index=False, float_format='%.15f')\n",
    "pd.read_csv('stack.csv').head()"
   ]
  },
  {
   "cell_type": "code",
   "execution_count": null,
   "metadata": {
    "collapsed": true
   },
   "outputs": [],
   "source": []
  }
 ],
 "metadata": {
  "kernelspec": {
   "display_name": "Python 3",
   "language": "python",
   "name": "python3"
  },
  "language_info": {
   "codemirror_mode": {
    "name": "ipython",
    "version": 3
   },
   "file_extension": ".py",
   "mimetype": "text/x-python",
   "name": "python",
   "nbconvert_exporter": "python",
   "pygments_lexer": "ipython3",
   "version": "3.6.0"
  }
 },
 "nbformat": 4,
 "nbformat_minor": 2
}
